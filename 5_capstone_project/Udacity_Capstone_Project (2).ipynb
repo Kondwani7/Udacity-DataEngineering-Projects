{
  "cells": [
    {
      "cell_type": "code",
      "execution_count": 1,
      "metadata": {
        "colab": {
          "base_uri": "https://localhost:8080/"
        },
        "id": "4pGNDXLnvtdF",
        "outputId": "ac4eb39a-9103-4267-ae3b-3edb30787a41"
      },
      "outputs": [
        {
          "name": "stdout",
          "output_type": "stream",
          "text": [
            "Mounted at /content/drive\n"
          ]
        }
      ],
      "source": [
        "from google.colab import drive\n",
        "drive.mount('/content/drive', force_remount= True)"
      ]
    },
    {
      "cell_type": "markdown",
      "metadata": {
        "id": "c6EROGW2t8gU"
      },
      "source": [
        "# Project Title\n",
        "### Data Engineering Capstone Project\n",
        "\n"
      ]
    },
    {
      "cell_type": "markdown",
      "metadata": {
        "id": "C5CJuylJe-DF"
      },
      "source": [
        "### Step 1: Scope the Project and Gather Data\n"
      ]
    },
    {
      "cell_type": "markdown",
      "metadata": {
        "id": "ddwXKln1WS_x"
      },
      "source": [
        "#### Goal\n",
        "Transform Amazon bestsellers and reviews data to predict how reviews determine a sellers store performance\n",
        "\n",
        "#### Scope\n",
        "We only focus on amazon bestsellers data (top sellers on the site) and their reviews."
      ]
    },
    {
      "cell_type": "markdown",
      "metadata": {
        "id": "thJTCLAJsBqf"
      },
      "source": [
        "### Data\n",
        "Amazon Bestsellers [data]\n",
        ")\n",
        "\n",
        "Amazon Reviews [data](https://www.kaggle.com/datasets/arhamrumi/amazon-product-reviews)"
      ]
    },
    {
      "cell_type": "code",
      "execution_count": 2,
      "metadata": {
        "colab": {
          "base_uri": "https://localhost:8080/"
        },
        "id": "Mp3odcSBsAkF",
        "outputId": "c559fd2a-c378-48a0-e117-94f9a16251b2"
      },
      "outputs": [
        {
          "name": "stdout",
          "output_type": "stream",
          "text": [
            "Requirement already satisfied: pyspark in /usr/local/lib/python3.7/dist-packages (3.2.1)\n",
            "Requirement already satisfied: py4j==0.10.9.3 in /usr/local/lib/python3.7/dist-packages (from pyspark) (0.10.9.3)\n"
          ]
        }
      ],
      "source": [
        "%pip install pyspark"
      ]
    },
    {
      "cell_type": "code",
      "execution_count": 3,
      "metadata": {
        "id": "50cH2yBntgpt"
      },
      "outputs": [],
      "source": [
        "import pandas as pd\n",
        "import numpy as np\n",
        "import seaborn as sns\n",
        "import matplotlib.pyplot as plt\n",
        "from pyspark import SparkContext, SparkConf\n",
        "from pyspark.sql import SparkSession\n",
        "\n",
        "from pyspark.sql.types import *\n",
        "import pyspark.sql.functions as F\n",
        "\n",
        "import configparser\n",
        "import os"
      ]
    },
    {
      "cell_type": "code",
      "execution_count": 4,
      "metadata": {
        "id": "RV-uCmjut4BK"
      },
      "outputs": [],
      "source": [
        "#create spark sesson\n",
        "import pyspark\n",
        "def create_spark_session():\n",
        "\n",
        "    \"\"\"\n",
        "    Description:\n",
        "      Creates spark session based on the spark and hadoop package of interest\n",
        "    Returns:\n",
        "      spark session\n",
        "    \"\"\"\n",
        "    spark = SparkSession \\\n",
        "        .builder \\\n",
        "        .config(\"spark.jars.packages\",\"org.apache.hadoop:hadoop-aws:2.7.3,org.postgresql:postgresql:42.2.6\") \\\n",
        "        .getOrCreate()\n",
        "    return spark\n",
        "#create the spark session\n",
        "spark = create_spark_session()"
      ]
    },
    {
      "cell_type": "markdown",
      "metadata": {
        "id": "fHONOBq0ubP3"
      },
      "source": [
        "### Set AWS credentials "
      ]
    },
    {
      "cell_type": "code",
      "execution_count": 5,
      "metadata": {
        "id": "AD73jtwVvrYG"
      },
      "outputs": [],
      "source": [
        "config = configparser.ConfigParser()\n",
        "aws_local_creds_dir = \"/content/drive/MyDrive/udacity_capstone/aws_local_creds.cfg\"\n",
        "config.read_file(open(aws_local_creds_dir))\n",
        "#the access key and secret access key that's generated when your create an IAM user\n",
        "#note that the new user should have the \"AmazonS3FullAccess\" policy to access your s3 bucket\n",
        "#no longer used because of data transfer costs\n",
        "\"\"\"\n",
        "os.environ[\"AWS_ACCESS_KEY_ID\"]= config['AWS']['AWS_ACCESS_KEY_ID']\n",
        "os.environ[\"AWS_SECRET_ACCESS_KEY\"]= config['AWS']['AWS_SECRET_ACCESS_KEY']\n",
        "\"\"\""
      ]
    },
    {
      "cell_type": "code",
      "execution_count": 6,
      "metadata": {
        "id": "AJVWdWHOugTz"
      },
      "outputs": [],
      "source": [
        "#no longer used because of data transfer costs\n",
        "\"\"\"\n",
        "AWS_ACCESS_KEY_ID = os.environ[\"AWS_ACCESS_KEY_ID\"]\n",
        "AWS_SECRET_ACCESS_KEY = os.environ[\"AWS_SECRET_ACCESS_KEY\"]\n",
        "\"\"\""
      ]
    },
    {
      "cell_type": "code",
      "execution_count": 7,
      "metadata": {
        "id": "xNqO-VDquk5a"
      },
      "outputs": [],
      "source": [
        "#connect spark to s3\n",
        "#no longer used because of data transfer costs\n",
        "\"\"\"\n",
        "hadoop_conf = spark._jsc.hadoopConfiguration()\n",
        "hadoop_conf.set(\"fs.s3n.impl\", \"org.apache.hadoop.fs.s3native.NativeS3FileSystem\")\n",
        "hadoop_conf.set(\"fs.s3n.awsAccessKeyId\",AWS_ACCESS_KEY_ID)\n",
        "hadoop_conf.set(\"fs.s3n.awsSecretAccessKey\", AWS_SECRET_ACCESS_KEY)\n",
        "hadoop_conf.set(\"fs.s3n.endpoint\", \"s3.amazonaws.com\")\n",
        "\"\"\""
      ]
    },
    {
      "cell_type": "markdown",
      "metadata": {
        "id": "q3zMYq7RenyD"
      },
      "source": [
        "### Step 2: Explore and Assess the Data"
      ]
    },
    {
      "cell_type": "markdown",
      "metadata": {
        "id": "LU-8Zkf_yEgl"
      },
      "source": [
        "#### get data from s3"
      ]
    },
    {
      "cell_type": "markdown",
      "metadata": {
        "id": "CWw6ojJOyxd3"
      },
      "source": [
        "\n",
        "get bestseller data\n"
      ]
    },
    {
      "cell_type": "code",
      "execution_count": 8,
      "metadata": {
        "id": "u56b99w6voD2"
      },
      "outputs": [],
      "source": [
        "\"\"\"\n",
        "#no longer using AWS because of data transfer transaction costs\n",
        "#using google drive instead\n",
        "\"\"\"\n",
        "# Read in the data here\n",
        "#amazon best sellers data\n",
        "#input_path = \"s3n://amazon-udacity/amazon-bestseller/amazon_bestsellers.csv\"\n",
        "#Google Drive\n",
        "input_path = \"/content/drive/MyDrive/udacity_capstone/amazon_bestsellers.csv\"\n",
        "bestseller_df = spark.read.option(\"header\", \"true\").csv(input_path)"
      ]
    },
    {
      "cell_type": "markdown",
      "metadata": {
        "id": "wHpXpB9hynFu"
      },
      "source": [
        "Basic analysis of our  bestseller data"
      ]
    },
    {
      "cell_type": "code",
      "execution_count": 9,
      "metadata": {
        "colab": {
          "base_uri": "https://localhost:8080/"
        },
        "id": "AIyAvk490vnz",
        "outputId": "4aee87db-da3d-4cc8-b6c9-c382b34ff649"
      },
      "outputs": [
        {
          "name": "stdout",
          "output_type": "stream",
          "text": [
            "root\n",
            " |-- ASIN: string (nullable = true)\n",
            " |-- category: string (nullable = true)\n",
            " |-- links: string (nullable = true)\n",
            " |-- title: string (nullable = true)\n",
            " |-- price: string (nullable = true)\n",
            " |-- image url: string (nullable = true)\n",
            " |-- rating: string (nullable = true)\n",
            " |-- No of reviews: string (nullable = true)\n",
            "\n"
          ]
        }
      ],
      "source": [
        "bestseller_df.printSchema()"
      ]
    },
    {
      "cell_type": "code",
      "execution_count": 10,
      "metadata": {
        "colab": {
          "base_uri": "https://localhost:8080/"
        },
        "id": "i6FVPRqBuvgm",
        "outputId": "6b4fa932-fd8f-4af6-a9a6-2bd9616de1c5"
      },
      "outputs": [
        {
          "data": {
            "text/plain": [
              "6758084"
            ]
          },
          "execution_count": 10,
          "metadata": {},
          "output_type": "execute_result"
        }
      ],
      "source": [
        "bestseller_df.count()"
      ]
    },
    {
      "cell_type": "code",
      "execution_count": 11,
      "metadata": {
        "colab": {
          "base_uri": "https://localhost:8080/"
        },
        "id": "NJWuT3qYx8kX",
        "outputId": "6cb21df5-5133-4a8b-c350-72e324ce4f6d"
      },
      "outputs": [
        {
          "name": "stdout",
          "output_type": "stream",
          "text": [
            "+--------------------+--------------------+--------------------+--------------------+--------------------+--------------------+------+-------------+\n",
            "|                ASIN|            category|               links|               title|               price|           image url|rating|No of reviews|\n",
            "+--------------------+--------------------+--------------------+--------------------+--------------------+--------------------+------+-------------+\n",
            "|          B07HF3X6Y4|Any Department/Ho...|https://www.amazo...|                   \"|                null|                null|  null|         null|\n",
            "|            Hilif...| Handheld Garment...| Mini Travel Stea...|                null|                null|                null|  null|         null|\n",
            "|                   \"|              $24.99|https://images-na...|  4.4 out of 5 stars|              15,233|                null|  null|         null|\n",
            "|          B07JVFZJT7|Any Department/Ho...|https://www.amazo...|                   \"|                null|                null|  null|         null|\n",
            "|            Profe...| True Position Ax...| Self-Cleaning Fu...|                null|                null|                null|  null|         null|\n",
            "|                   \"|              $39.97|https://images-na...|  4.5 out of 5 stars|               9,726|                null|  null|         null|\n",
            "|          B07W95HD5M|Any Department/Ho...|https://www.amazo...|                   \"|                null|                null|  null|         null|\n",
            "|            Homz ...|               Black|                null|                null|                null|                null|  null|         null|\n",
            "|                   \"|        $1.99 $64.78|https://images-na...|  4.4 out of 5 stars|               2,796|                null|  null|         null|\n",
            "|          B07JGRV3TQ|Any Department/Ho...|https://www.amazo...|                   \"|                null|                null|  null|         null|\n",
            "|            OGHom...| Handheld Clothin...| 240ml Portable M...|                null|                null|                null|  null|         null|\n",
            "|                   \"|       $16.99 $18.99|https://images-na...|  4.6 out of 5 stars|               6,573|                null|  null|         null|\n",
            "|          B01N1QE5ME|Any Department/Ho...|https://www.amazo...|                   \"|                null|                null|  null|         null|\n",
            "|            BEAUT...| Portable Handhel...|    30s Fast Heat-up|            Auto-Off| Large Detachable...|                null|  null|         null|\n",
            "|                   \"|       $32.97 $39.97|https://images-na...|  4.4 out of 5 stars|               8,223|                null|  null|         null|\n",
            "|          B07FR68WM7|Any Department/Ho...|https://www.amazo...|                   \"|                null|                null|  null|         null|\n",
            "|            GORIL...|       Velcro Straps| Large and Standa...| Resists Scorchin...| Elastic Edge Thi...| Chevron Black Linen|  null|         null|\n",
            "|                   \"|      $19.99 $137.99|https://images-na...|  4.7 out of 5 stars|               4,327|                null|  null|         null|\n",
            "|          B07PNRCW1D|Any Department/Ho...|https://www.amazo...|                   \"|                null|                null|  null|         null|\n",
            "|            Sunbe...|         White/Clear|      GCSBCL-317-000|                null|                null|                null|  null|         null|\n",
            "+--------------------+--------------------+--------------------+--------------------+--------------------+--------------------+------+-------------+\n",
            "only showing top 20 rows\n",
            "\n"
          ]
        }
      ],
      "source": [
        "bestseller_df.show()"
      ]
    },
    {
      "cell_type": "markdown",
      "metadata": {
        "id": "XCTfTiezy5Sz"
      },
      "source": [
        "get reviews data"
      ]
    },
    {
      "cell_type": "code",
      "execution_count": 12,
      "metadata": {
        "id": "QZZwtcr1x-0c"
      },
      "outputs": [],
      "source": [
        "\"\"\"\n",
        "#no longer using AWS because of data transfer transaction costs\n",
        "#using google drive instead\n",
        "\"\"\"\n",
        "#amazon reviews data\n",
        "#reviews_path = \"s3n://amazon-udacity/amazon-reviews/amazon_reviews.csv\"\n",
        "#google Drive\n",
        "reviews_path = \"/content/drive/MyDrive/udacity_capstone/amazon_reviews.csv\"\n",
        "reviews_df = spark.read.option(\"header\", \"true\").csv(reviews_path)"
      ]
    },
    {
      "cell_type": "markdown",
      "metadata": {
        "id": "VBWR1em1y7YR"
      },
      "source": [
        "Basic analysis of our  reviews |data"
      ]
    },
    {
      "cell_type": "code",
      "execution_count": 13,
      "metadata": {
        "colab": {
          "base_uri": "https://localhost:8080/"
        },
        "id": "UQUCioaX1DjN",
        "outputId": "63e7f534-b8d3-45eb-ca7d-92124a27c336"
      },
      "outputs": [
        {
          "name": "stdout",
          "output_type": "stream",
          "text": [
            "root\n",
            " |-- Id: string (nullable = true)\n",
            " |-- ProductId: string (nullable = true)\n",
            " |-- UserId: string (nullable = true)\n",
            " |-- ProfileName: string (nullable = true)\n",
            " |-- HelpfulnessNumerator: string (nullable = true)\n",
            " |-- HelpfulnessDenominator: string (nullable = true)\n",
            " |-- Score: string (nullable = true)\n",
            " |-- Time: string (nullable = true)\n",
            " |-- Summary: string (nullable = true)\n",
            " |-- Text: string (nullable = true)\n",
            "\n"
          ]
        }
      ],
      "source": [
        "reviews_df.printSchema()"
      ]
    },
    {
      "cell_type": "code",
      "execution_count": 14,
      "metadata": {
        "colab": {
          "base_uri": "https://localhost:8080/"
        },
        "id": "gq8-HuZRyA5m",
        "outputId": "8e7d8914-c00c-4341-f515-599d1a8bfe4b"
      },
      "outputs": [
        {
          "data": {
            "text/plain": [
              "568454"
            ]
          },
          "execution_count": 14,
          "metadata": {},
          "output_type": "execute_result"
        }
      ],
      "source": [
        "reviews_df.count()"
      ]
    },
    {
      "cell_type": "code",
      "execution_count": 15,
      "metadata": {
        "colab": {
          "base_uri": "https://localhost:8080/"
        },
        "id": "XNxnHf2oyDW7",
        "outputId": "af962342-0b9b-4215-85ca-74d55d6ca18a"
      },
      "outputs": [
        {
          "name": "stdout",
          "output_type": "stream",
          "text": [
            "root\n",
            " |-- Id: string (nullable = true)\n",
            " |-- ProductId: string (nullable = true)\n",
            " |-- UserId: string (nullable = true)\n",
            " |-- ProfileName: string (nullable = true)\n",
            " |-- HelpfulnessNumerator: string (nullable = true)\n",
            " |-- HelpfulnessDenominator: string (nullable = true)\n",
            " |-- Score: string (nullable = true)\n",
            " |-- Time: string (nullable = true)\n",
            " |-- Summary: string (nullable = true)\n",
            " |-- Text: string (nullable = true)\n",
            "\n"
          ]
        }
      ],
      "source": [
        "reviews_df.printSchema()"
      ]
    },
    {
      "cell_type": "code",
      "execution_count": 16,
      "metadata": {
        "colab": {
          "base_uri": "https://localhost:8080/"
        },
        "id": "ttqYuSDwyFJr",
        "outputId": "62dacd9d-99ed-4e94-e75a-c06b22ec2b02"
      },
      "outputs": [
        {
          "name": "stdout",
          "output_type": "stream",
          "text": [
            "+---+----------+--------------+--------------------+--------------------+----------------------+-----+----------+--------------------+--------------------+\n",
            "| Id| ProductId|        UserId|         ProfileName|HelpfulnessNumerator|HelpfulnessDenominator|Score|      Time|             Summary|                Text|\n",
            "+---+----------+--------------+--------------------+--------------------+----------------------+-----+----------+--------------------+--------------------+\n",
            "|  1|B001E4KFG0|A3SGXH7AUHU8GW|          delmartian|                   1|                     1|    5|1303862400|Good Quality Dog ...|I have bought sev...|\n",
            "|  2|B00813GRG4|A1D87F6ZCVE5NK|              dll pa|                   0|                     0|    1|1346976000|   Not as Advertised|\"Product arrived ...|\n",
            "|  3|B000LQOCH0| ABXLMWJIXXAIN|\"Natalia Corres \"...|                   1|                     1|    4|1219017600|\"\"\"Delight\"\" says...|\"This is a confec...|\n",
            "|  4|B000UA0QIQ|A395BORC6FGVXV|                Karl|                   3|                     3|    2|1307923200|      Cough Medicine|If you are lookin...|\n",
            "|  5|B006K2ZZ7K|A1UQRSCLF8GW1T|\"Michael D. Bigha...|                   0|                     0|    5|1350777600|         Great taffy|Great taffy at a ...|\n",
            "|  6|B006K2ZZ7K| ADT0SRK1MGOEU|      Twoapennything|                   0|                     0|    4|1342051200|          Nice Taffy|I got a wild hair...|\n",
            "|  7|B006K2ZZ7K|A1SP2KVKFXXRU1|   David C. Sullivan|                   0|                     0|    5|1340150400|Great!  Just as g...|This saltwater ta...|\n",
            "|  8|B006K2ZZ7K|A3JRGQVEQN31IQ|  Pamela G. Williams|                   0|                     0|    5|1336003200|Wonderful, tasty ...|This taffy is so ...|\n",
            "|  9|B000E7L2R4|A1MZYO9TZK0BBI|            R. James|                   1|                     1|    5|1322006400|          Yay Barley|Right now I'm mos...|\n",
            "| 10|B00171APVA|A21BT40VZCCYT4|       Carol A. Reed|                   0|                     0|    5|1351209600|    Healthy Dog Food|This is a very he...|\n",
            "| 11|B0001PB9FE|A3HDKO7OW0QNK4|        Canadian Fan|                   1|                     1|    5|1107820800|The Best Hot Sauc...|I don't know if i...|\n",
            "| 12|B0009XLVG0|A2725IB4YY9JEB|\"A Poeng \"\"Sparky...|                   4|                     4|    5|1282867200|\"My cats LOVE thi...|One of my boys ne...|\n",
            "| 13|B0009XLVG0| A327PCT23YH90|                  LT|                   1|                     1|    1|1339545600|My Cats Are Not F...|My cats have been...|\n",
            "| 14|B001GVISJM|A18ECVX2RJ7HUE| \"willie \"\"roadie\"\"\"|                   2|                     2|    4|1288915200|   fresh and greasy!|good flavor! thes...|\n",
            "| 15|B001GVISJM|A2MUGFV2TDQ47K|\"Lynrie \"\"Oh HELL...|                   4|                     5|    5|1268352000|Strawberry Twizzl...|The Strawberry Tw...|\n",
            "| 16|B001GVISJM|A1CZX3CP8IKQIJ|        Brian A. Lee|                   4|                     5|    5|1262044800|Lots of twizzlers...|My daughter loves...|\n",
            "| 17|B001GVISJM|A3KLWF6WQ5BNYO|      Erica Neathery|                   0|                     0|    2|1348099200|          poor taste|I love eating the...|\n",
            "| 18|B001GVISJM| AFKW14U97Z6QO|               Becca|                   0|                     0|    5|1345075200|            Love it!|I am very satisfi...|\n",
            "| 19|B001GVISJM|A2A9X58G2GTBLP|             Wolfee1|                   0|                     0|    5|1324598400|  GREAT SWEET CANDY!|Twizzlers, Strawb...|\n",
            "| 20|B001GVISJM|A3IV7CL2C13K2U|                Greg|                   0|                     0|    5|1318032000|Home delivered tw...|Candy was deliver...|\n",
            "+---+----------+--------------+--------------------+--------------------+----------------------+-----+----------+--------------------+--------------------+\n",
            "only showing top 20 rows\n",
            "\n"
          ]
        }
      ],
      "source": [
        "reviews_df.show()"
      ]
    },
    {
      "cell_type": "markdown",
      "metadata": {
        "id": "Fo5MW1o_yIbQ"
      },
      "source": [
        "### Step 2: Explore and Assess the Data\n",
        "#### Explore the Data \n",
        "Identify data quality issues, like missing values, duplicate data, etc.\n",
        "\n",
        "#### Cleaning Steps\n",
        "Document steps necessary to clean the data"
      ]
    },
    {
      "cell_type": "markdown",
      "metadata": {
        "id": "Ey3h0dZZyJGJ"
      },
      "source": [
        "Get some descriptive analytics of the bestsellers and reviews tables before joining them"
      ]
    },
    {
      "cell_type": "code",
      "execution_count": 17,
      "metadata": {
        "colab": {
          "base_uri": "https://localhost:8080/"
        },
        "id": "FFMUYyhCyLJl",
        "outputId": "cf7289d4-1e01-4040-b1ff-45a80b407456"
      },
      "outputs": [
        {
          "name": "stdout",
          "output_type": "stream",
          "text": [
            "+-------+--------------------+---------------------+----------------------+--------------------+----------------------+--------------------+--------------------+--------------------+\n",
            "|summary|                ASIN|             category|                 links|               title|                 price|           image url|              rating|       No of reviews|\n",
            "+-------+--------------------+---------------------+----------------------+--------------------+----------------------+--------------------+--------------------+--------------------+\n",
            "|  count|             6758083|              5537046|               5144424|             4882408|               2484459|              139417|               82076|               46463|\n",
            "|   mean| 1.857587926621902E9| 2.6034076212584668E8|              Infinity| 3.024202732486609E9|    1150983.3823096473| 9.485048104273513E7| 8.636156510897866E7|6.6699477352379285E7|\n",
            "| stddev| 2.256854907329768E9|   7.90857523731988E9|                   NaN|1.122437203975496E11|   8.084798490128478E8|1.9864268236329706E9|1.1950815297625015E9| 8.415989169324983E8|\n",
            "|    min|            \\t 22...|                     |                      |                    |                      |                    |                    |                Wood|\n",
            "|    max|Universal Quick C...|３in1 Non-Stick Ha...|（M3/M4/M6） Alumin...|             （Black|（gifts for mom，bi...|              电火锅|              学生锅|              – Keto|\n",
            "+-------+--------------------+---------------------+----------------------+--------------------+----------------------+--------------------+--------------------+--------------------+\n",
            "\n"
          ]
        }
      ],
      "source": [
        "bestseller_df.describe().show()"
      ]
    },
    {
      "cell_type": "code",
      "execution_count": 18,
      "metadata": {
        "colab": {
          "base_uri": "https://localhost:8080/"
        },
        "id": "EelX4MeIySzH",
        "outputId": "2c52e74a-9f22-49cb-df6f-d54f69a6712b"
      },
      "outputs": [
        {
          "name": "stdout",
          "output_type": "stream",
          "text": [
            "+-------+------------------+-------------------+------------------+-----------+--------------------+----------------------+-----------------+--------------------+--------------------+--------------------+\n",
            "|summary|                Id|          ProductId|            UserId|ProfileName|HelpfulnessNumerator|HelpfulnessDenominator|            Score|                Time|             Summary|                Text|\n",
            "+-------+------------------+-------------------+------------------+-----------+--------------------+----------------------+-----------------+--------------------+--------------------+--------------------+\n",
            "|  count|            568454|             568454|            568454|     568454|              568452|                568452|           568451|              568449|              568448|              568444|\n",
            "|   mean|          284227.5|6.588314217660668E9|              null|        NaN|  1.7404362359754146|    2.2252822569278043|4.176305349530591|1.2900618961141965E9|                 NaN| 8.692932835022831E8|\n",
            "| stddev|164098.67929846357|2.176211419742174E9|              null|        NaN|   7.641562467566166|     8.287606784659728|1.383877970723668|1.0173077083957115E8|                 NaN| 6.013554631645893E8|\n",
            "|    min|                 1|         0006641040|#oc-R103C0QSV1DF5E|         \u001a\u001a|            Judie\"\"\"|            & Books\"\"\"|             ...\"|         Craft &...\"| etc. type of sna...|  trans fat sunbl...|\n",
            "|    max|             99999|         B009WVB40S|     AZZZOVIBXHGDR|      ñañon|                wife|               fur-mom|  book-blogger\"\"\"|           997228800|   Åwesome Coffee!!!|~Earth's Best Inf...|\n",
            "+-------+------------------+-------------------+------------------+-----------+--------------------+----------------------+-----------------+--------------------+--------------------+--------------------+\n",
            "\n"
          ]
        }
      ],
      "source": [
        "reviews_df.describe().show()"
      ]
    },
    {
      "cell_type": "markdown",
      "metadata": {
        "id": "EjXpPWQDDFpv"
      },
      "source": [
        "Rename and columns to perform queries"
      ]
    },
    {
      "cell_type": "code",
      "execution_count": 19,
      "metadata": {
        "colab": {
          "base_uri": "https://localhost:8080/"
        },
        "id": "rny3fxPivfsw",
        "outputId": "9504d798-1c3d-4880-96b6-9db5e03b96a1"
      },
      "outputs": [
        {
          "name": "stdout",
          "output_type": "stream",
          "text": [
            "+--------------------+--------------------+--------------------+--------------------+--------------------+--------------------+------+-------------+-------------+\n",
            "|                ASIN|            category|               links|               title|               price|           image url|rating|No of reviews|bestseller_id|\n",
            "+--------------------+--------------------+--------------------+--------------------+--------------------+--------------------+------+-------------+-------------+\n",
            "|          B07HF3X6Y4|Any Department/Ho...|https://www.amazo...|                   \"|                null|                null|  null|         null|            0|\n",
            "|            Hilif...| Handheld Garment...| Mini Travel Stea...|                null|                null|                null|  null|         null|            1|\n",
            "|                   \"|              $24.99|https://images-na...|  4.4 out of 5 stars|              15,233|                null|  null|         null|            2|\n",
            "|          B07JVFZJT7|Any Department/Ho...|https://www.amazo...|                   \"|                null|                null|  null|         null|            3|\n",
            "|            Profe...| True Position Ax...| Self-Cleaning Fu...|                null|                null|                null|  null|         null|            4|\n",
            "|                   \"|              $39.97|https://images-na...|  4.5 out of 5 stars|               9,726|                null|  null|         null|            5|\n",
            "|          B07W95HD5M|Any Department/Ho...|https://www.amazo...|                   \"|                null|                null|  null|         null|            6|\n",
            "|            Homz ...|               Black|                null|                null|                null|                null|  null|         null|            7|\n",
            "|                   \"|        $1.99 $64.78|https://images-na...|  4.4 out of 5 stars|               2,796|                null|  null|         null|            8|\n",
            "|          B07JGRV3TQ|Any Department/Ho...|https://www.amazo...|                   \"|                null|                null|  null|         null|            9|\n",
            "|            OGHom...| Handheld Clothin...| 240ml Portable M...|                null|                null|                null|  null|         null|           10|\n",
            "|                   \"|       $16.99 $18.99|https://images-na...|  4.6 out of 5 stars|               6,573|                null|  null|         null|           11|\n",
            "|          B01N1QE5ME|Any Department/Ho...|https://www.amazo...|                   \"|                null|                null|  null|         null|           12|\n",
            "|            BEAUT...| Portable Handhel...|    30s Fast Heat-up|            Auto-Off| Large Detachable...|                null|  null|         null|           13|\n",
            "|                   \"|       $32.97 $39.97|https://images-na...|  4.4 out of 5 stars|               8,223|                null|  null|         null|           14|\n",
            "|          B07FR68WM7|Any Department/Ho...|https://www.amazo...|                   \"|                null|                null|  null|         null|           15|\n",
            "|            GORIL...|       Velcro Straps| Large and Standa...| Resists Scorchin...| Elastic Edge Thi...| Chevron Black Linen|  null|         null|           16|\n",
            "|                   \"|      $19.99 $137.99|https://images-na...|  4.7 out of 5 stars|               4,327|                null|  null|         null|           17|\n",
            "|          B07PNRCW1D|Any Department/Ho...|https://www.amazo...|                   \"|                null|                null|  null|         null|           18|\n",
            "|            Sunbe...|         White/Clear|      GCSBCL-317-000|                null|                null|                null|  null|         null|           19|\n",
            "+--------------------+--------------------+--------------------+--------------------+--------------------+--------------------+------+-------------+-------------+\n",
            "only showing top 20 rows\n",
            "\n"
          ]
        }
      ],
      "source": [
        "# add an unique id column to bestsellers\n",
        "bestsellers_df = bestseller_df.withColumn(\"bestseller_id\", F.monotonically_increasing_id())\n",
        "bestsellers_df.show()"
      ]
    },
    {
      "cell_type": "code",
      "execution_count": 20,
      "metadata": {
        "id": "ADucvSF7DFAI"
      },
      "outputs": [],
      "source": [
        "#rename  columns in best_seller\n",
        "bestsellers_df = bestsellers_df.withColumnRenamed(\"image url\",\"image_url\")\\\n",
        "                .withColumnRenamed(\"No of reviews\",\"no_of_reviews\")\\\n",
        "                .withColumnRenamed(\"ASIN\", \"bestseller_description\")"
      ]
    },
    {
      "cell_type": "code",
      "execution_count": 21,
      "metadata": {
        "colab": {
          "base_uri": "https://localhost:8080/"
        },
        "id": "H6GdZ4drDgjG",
        "outputId": "68556c26-b50d-4990-c4aa-ad3f1453bb9f"
      },
      "outputs": [
        {
          "name": "stdout",
          "output_type": "stream",
          "text": [
            "root\n",
            " |-- bestseller_description: string (nullable = true)\n",
            " |-- category: string (nullable = true)\n",
            " |-- links: string (nullable = true)\n",
            " |-- title: string (nullable = true)\n",
            " |-- price: string (nullable = true)\n",
            " |-- image_url: string (nullable = true)\n",
            " |-- rating: string (nullable = true)\n",
            " |-- no_of_reviews: string (nullable = true)\n",
            " |-- bestseller_id: long (nullable = false)\n",
            "\n"
          ]
        }
      ],
      "source": [
        "#rename no of reviews\n",
        "bestsellers_df.printSchema()"
      ]
    },
    {
      "cell_type": "code",
      "execution_count": 22,
      "metadata": {
        "id": "9mZBpOLULyBC"
      },
      "outputs": [],
      "source": [
        "# rename columns in reviews\n",
        "reviews_df = reviews_df.withColumnRenamed(\"Id\", \"review_id\")\\\n",
        "                       .withColumnRenamed(\"ProductId\", \"product_id\")\\\n",
        "                       .withColumnRenamed(\"UserId\", \"user_id\")\\\n",
        "                       .withColumnRenamed(\"ProfileName\", \"profile_name\")\\\n",
        "                       .withColumnRenamed(\"HelpfulnessNumerator\", \"helpfulness_numerator\")\\\n",
        "                       .withColumnRenamed(\"HelpfulnessDenominator\", \"helpfulness_denominator\")"
      ]
    },
    {
      "cell_type": "code",
      "execution_count": 23,
      "metadata": {
        "colab": {
          "base_uri": "https://localhost:8080/"
        },
        "id": "oapHu066L_7p",
        "outputId": "e05831fc-8496-4710-8c48-83a7a08ef0d0"
      },
      "outputs": [
        {
          "name": "stdout",
          "output_type": "stream",
          "text": [
            "root\n",
            " |-- review_id: string (nullable = true)\n",
            " |-- product_id: string (nullable = true)\n",
            " |-- user_id: string (nullable = true)\n",
            " |-- profile_name: string (nullable = true)\n",
            " |-- helpfulness_numerator: string (nullable = true)\n",
            " |-- helpfulness_denominator: string (nullable = true)\n",
            " |-- Score: string (nullable = true)\n",
            " |-- Time: string (nullable = true)\n",
            " |-- Summary: string (nullable = true)\n",
            " |-- Text: string (nullable = true)\n",
            "\n"
          ]
        }
      ],
      "source": [
        "reviews_df.printSchema()"
      ]
    },
    {
      "cell_type": "markdown",
      "metadata": {
        "id": "TDHWkrYkybBr"
      },
      "source": [
        "#Null values\n",
        "check the number of null values the bestsellers and reviews"
      ]
    },
    {
      "cell_type": "code",
      "execution_count": 24,
      "metadata": {
        "colab": {
          "base_uri": "https://localhost:8080/",
          "height": 487
        },
        "id": "ePAqd1kQHFpo",
        "outputId": "6b3104dc-f041-48bf-e854-90297cd04187"
      },
      "outputs": [
        {
          "data": {
            "image/png": "[encoded data removed]",
            "text/plain": [
              "<Figure size 720x576 with 1 Axes>"
            ]
          },
          "metadata": {},
          "output_type": "display_data"
        }
      ],
      "source": [
        "#Examine the distribution of prices that are null and available\n",
        "price_null = bestsellers_df.filter(\"price IS NULL\").count()\n",
        "price_available = bestsellers_df.filter(\"price IS NOT NULL\").count()\n",
        "\n",
        "labels = 'Price is null', 'Price is known'\n",
        "size= [price_null, \n",
        "       price_available]\n",
        "explode = (0, 0.1)\n",
        "fig1, ax1  = plt.subplots(figsize=(10,8))\n",
        "ax1.pie(size, explode=explode, labels=labels,autopct='%1.1f%%',\n",
        "        shadow=True, startangle=90)\n",
        "ax1.axis('equal')\n",
        "plt.title(\"distribution of bestseller prices that available and null\", size =20)\n",
        "plt.show()"
      ]
    },
    {
      "cell_type": "code",
      "execution_count": 25,
      "metadata": {
        "colab": {
          "base_uri": "https://localhost:8080/",
          "height": 490
        },
        "id": "RUbgwIU5BV83",
        "outputId": "1ab3697a-a85f-41f2-bab8-6d530ffefdcf"
      },
      "outputs": [
        {
          "data": {
            "image/png": "[encoded data removed]",
            "text/plain": [
              "<Figure size 720x576 with 1 Axes>"
            ]
          },
          "metadata": {},
          "output_type": "display_data"
        }
      ],
      "source": [
        "# Examine the distribution of image_urls that are null and available\n",
        "image_url_null = bestsellers_df.filter(\"image_url is NUll\").count()\n",
        "image_url_available = bestsellers_df.filter(\"image_url IS NOT NUll\").count()\n",
        "\n",
        "labels = 'Image_url is null', 'Image_url is available'\n",
        "size= [image_url_null, \n",
        "       image_url_available]\n",
        "explode = (0, 0.1)\n",
        "fig1, ax1  = plt.subplots(figsize=(10,8))\n",
        "ax1.pie(size, explode=explode, labels=labels,autopct='%1.1f%%',\n",
        "        shadow=True, startangle=90)\n",
        "ax1.axis('equal')\n",
        "plt.title(\"distribution of bestseller image_urls that available and null\", size =20)\n",
        "plt.show()"
      ]
    },
    {
      "cell_type": "code",
      "execution_count": 26,
      "metadata": {
        "colab": {
          "base_uri": "https://localhost:8080/",
          "height": 490
        },
        "id": "YNODcUyHBhnN",
        "outputId": "b355c8a9-b645-440f-f6a6-a3ed1138da84"
      },
      "outputs": [
        {
          "data": {
            "image/png": "[encoded data removed]",
            "text/plain": [
              "<Figure size 720x576 with 1 Axes>"
            ]
          },
          "metadata": {},
          "output_type": "display_data"
        }
      ],
      "source": [
        "# Examine the distribution of rating that are null and available\n",
        "rating_null = bestsellers_df.filter(\"rating is NULL\").count()\n",
        "rating_available = bestsellers_df.filter(\"rating IS NOT NULL\").count()\n",
        "\n",
        "labels = 'Rating is null', 'Rating is available'\n",
        "size= [rating_null, \n",
        "       rating_available]\n",
        "explode = (0, 0.1)\n",
        "fig1, ax1  = plt.subplots(figsize=(10,8))\n",
        "ax1.pie(size, explode=explode, labels=labels,autopct='%1.1f%%',\n",
        "        shadow=True, startangle=90)\n",
        "ax1.axis('equal')\n",
        "plt.title(\"distribution of bestseller ratings that available and null\", size =20)\n",
        "plt.show()"
      ]
    },
    {
      "cell_type": "code",
      "execution_count": 27,
      "metadata": {
        "colab": {
          "base_uri": "https://localhost:8080/",
          "height": 490
        },
        "id": "nH90LeBmBkT1",
        "outputId": "6683dc50-4ebc-4c4f-af67-e472759d656d"
      },
      "outputs": [
        {
          "data": {
            "image/png": "[encoded data removed]",
            "text/plain": [
              "<Figure size 720x576 with 1 Axes>"
            ]
          },
          "metadata": {},
          "output_type": "display_data"
        }
      ],
      "source": [
        "# Examine the distribution of no_of_reviews that are null and available\n",
        "no_of_reviews_null = bestsellers_df.filter(\"no_of_reviews is NUll\").count()\n",
        "no_of_reviews_available = bestsellers_df.filter(\"no_of_reviews IS NOT NUll\").count()\n",
        "\n",
        "labels = 'No of reviews is null', 'No of Reviews is available'\n",
        "size=  [no_of_reviews_null, \n",
        "       no_of_reviews_available]\n",
        "explode = (0, 0.1)\n",
        "fig1, ax1  = plt.subplots(figsize=(10,8))\n",
        "ax1.pie(size, explode=explode, labels=labels,autopct='%1.1f%%',\n",
        "        shadow=True, startangle=90)\n",
        "ax1.axis('equal')\n",
        "plt.title(\"distribution of bestseller Number of reviews that available and null\", size =20)\n",
        "plt.show()"
      ]
    },
    {
      "cell_type": "markdown",
      "metadata": {
        "id": "bdrlJM7_K59K"
      },
      "source": [
        "## Replace null values\n",
        "* Despite the primary interest is to matching bestsellers to reviews\n",
        "* Null no_of_review rows make up % of our dataset\n",
        "* therefore, we wil just replace \"NaN\" with nul values"
      ]
    },
    {
      "cell_type": "code",
      "execution_count": 28,
      "metadata": {
        "id": "vsJV5FZR1wI4"
      },
      "outputs": [],
      "source": [
        "def replace_null(df):\n",
        "  \"\"\"\n",
        "  Description:\n",
        "    Replaces null values in spark dataframes with the \"None\" keyword\n",
        "  Args\n",
        "    df - our target dataframe\n",
        "  Returns:\n",
        "    None\n",
        "  \"\"\"\n",
        "  df = df.replace(float('nan'), None)\n",
        "  return None"
      ]
    },
    {
      "cell_type": "code",
      "execution_count": 29,
      "metadata": {
        "id": "fedRuSah2Ngy"
      },
      "outputs": [],
      "source": [
        "replace_null(bestsellers_df)"
      ]
    },
    {
      "cell_type": "code",
      "execution_count": 30,
      "metadata": {
        "id": "X7eRxhcS2Rfs"
      },
      "outputs": [],
      "source": [
        "replace_null(reviews_df)"
      ]
    },
    {
      "cell_type": "markdown",
      "metadata": {
        "id": "zY_mymi3LNIr"
      },
      "source": [
        "### Remove duplicates\n",
        "We want data on distinct bestsellers and reviews, Therefore:\n",
        "* we will remove duplicates in the columns bestseller_id in the bestseller table  \n",
        "* And remove duplicates in the reviews_id column in reviews table"
      ]
    },
    {
      "cell_type": "code",
      "execution_count": 31,
      "metadata": {
        "id": "XWdGkpH52YBG"
      },
      "outputs": [],
      "source": [
        "def remove_duplicates(df, df_id):\n",
        "  \"\"\"\n",
        "  Description \n",
        "    - removes duplicate vaues in spark dataframes\n",
        "  Args:\n",
        "    - df: our target dataframe\n",
        "    - df_id: the primary key/index of our dataframe\n",
        "  Returns\n",
        "  - None\n",
        "  \"\"\"\n",
        "  df = df.dropDuplicates([df_id])\n",
        "  \n",
        "  return None"
      ]
    },
    {
      "cell_type": "code",
      "execution_count": 32,
      "metadata": {
        "id": "v4eO9TL43J-8"
      },
      "outputs": [],
      "source": [
        "bestseller_id = \"bestseller_id\"\n",
        "remove_duplicates(bestsellers_df, bestseller_id)"
      ]
    },
    {
      "cell_type": "code",
      "execution_count": 33,
      "metadata": {
        "id": "N_t_VWwHifER"
      },
      "outputs": [],
      "source": [
        "reviews_id = \"review_id\"\n",
        "remove_duplicates(reviews_df, reviews_id)"
      ]
    },
    {
      "cell_type": "markdown",
      "metadata": {
        "id": "zIQ_OV9B3GPo"
      },
      "source": [
        "check any changes in our tables count"
      ]
    },
    {
      "cell_type": "code",
      "execution_count": 34,
      "metadata": {
        "colab": {
          "base_uri": "https://localhost:8080/"
        },
        "id": "qLoCLTQok9Yd",
        "outputId": "439ae651-37f8-4195-ed6d-56e7ba8d6f00"
      },
      "outputs": [
        {
          "data": {
            "text/plain": [
              "6758084"
            ]
          },
          "execution_count": 34,
          "metadata": {},
          "output_type": "execute_result"
        }
      ],
      "source": [
        "bestsellers_df.count()"
      ]
    },
    {
      "cell_type": "code",
      "execution_count": 35,
      "metadata": {
        "colab": {
          "base_uri": "https://localhost:8080/"
        },
        "id": "tVZz-hTWlFo4",
        "outputId": "6b006b0f-089b-4cfe-fda5-fd9d1d156d8d"
      },
      "outputs": [
        {
          "data": {
            "text/plain": [
              "568454"
            ]
          },
          "execution_count": 35,
          "metadata": {},
          "output_type": "execute_result"
        }
      ],
      "source": [
        "reviews_df.count()"
      ]
    },
    {
      "cell_type": "markdown",
      "metadata": {
        "id": "B-kKgPO_MJqj"
      },
      "source": [
        "### Convert the timestamp\n",
        "* In the reviews_table, we need to to convert the time column into a timestamp\n",
        "segemented by day, week, month and year.\n",
        "* In essence, creating a new table time that will be utilized in our schema"
      ]
    },
    {
      "cell_type": "code",
      "execution_count": 36,
      "metadata": {
        "id": "oz4qk2CIvzxX"
      },
      "outputs": [],
      "source": [
        "#drop null values in the time column of the reviews_df\n",
        "#reviews_df.filter(\"time is Null\").count()\n",
        "reviews_df=reviews_df.filter(\"time is NOT NULL AND time != 'NaN' \")\n",
        "#reviews_df.count()"
      ]
    },
    {
      "cell_type": "markdown",
      "metadata": {
        "id": "_M0nB0Qc4wjB"
      },
      "source": [
        "#### pandas datetime conversion\n",
        "* convert your spark dataframe to a pandas dataframe\n",
        "* convert it to integer values\n",
        "* then convert to a datatime\n",
        "\n",
        "#### spark datetime conversion\n",
        "* convert your pandas dataframe to a spark dataframe\n",
        "* convert it to integer values\n",
        "* then convert to a datatime\n",
        "\n",
        "#### result\n",
        "we have our target datatype from which we can create our reviews_time table:\n",
        "* we then split the column into year, month and data columns\n"
      ]
    },
    {
      "cell_type": "code",
      "execution_count": 37,
      "metadata": {
        "id": "FJiyX-nCyFWR"
      },
      "outputs": [],
      "source": [
        "reviews_time = reviews_df.select(\"time\")\n",
        "#reviews_time.show(5, False) "
      ]
    },
    {
      "cell_type": "code",
      "execution_count": 38,
      "metadata": {
        "id": "dL27smEL6Xue"
      },
      "outputs": [],
      "source": [
        "from pyspark.sql.types import IntegerType\n",
        "from datetime import datetime"
      ]
    },
    {
      "cell_type": "code",
      "execution_count": 39,
      "metadata": {
        "id": "sEYW6B8v5HNZ"
      },
      "outputs": [],
      "source": [
        "def datetime_conversion(timestamp_col):\n",
        "  \"\"\"\n",
        "  Description:\n",
        "    - convert its time column from string to an integer\n",
        "    - convert spark dataframe to a pandas dataframe\n",
        "    - convert this time column to a datatime datatype\n",
        "  Args:\n",
        "    - timestamp_col: the column containing our timestamp\n",
        "  Returns\n",
        "    - our datatime datatype\n",
        "  \"\"\"\n",
        "  df = globals()[\"reviews_time\"]\n",
        "  print(f\"time column datatype: {df.dtypes}\")\n",
        "  # Convert the string time to an integer\n",
        "  df = df.withColumn(\"time\", df[timestamp_col].cast(IntegerType()))\n",
        "  print(f\"time column datatype: {df.dtypes}\")\n",
        "  #convert the reviews_time to a pandas dataframe\n",
        "  df = df.toPandas()\n",
        "  #drop null values\n",
        "  df = df.dropna()\n",
        "  #check for any null values\n",
        "  print(f\"Null values in dataframe: {df.isnull().sum()}\")\n",
        "  #convert to datetime\n",
        "  df[timestamp_col] = [datetime.fromtimestamp(x) for x in df[timestamp_col]]\n",
        "  print(f\"pandas df datatype: {df.dtypes}\")\n",
        "  # convert it back to a spark dataframe\n",
        "  df = spark.createDataFrame(df)\n",
        "  # now convert into a spark timestamp with the to_date function\n",
        "  df =  df.withColumn(timestamp_col,F.to_date(F.col(timestamp_col),'yyyyMMdd'))\n",
        "  #return the new column with a datatime datatype\n",
        "  print(f\"spark datatype: {df.dtypes}\")\n",
        "  #assert the our reviews_time is our local dataframe\n",
        "  globals()[\"reviews_time\"] = df\n",
        "  #return our target dataframe\n",
        "  return df.show(5, False)\n",
        "\n"
      ]
    },
    {
      "cell_type": "code",
      "execution_count": 40,
      "metadata": {
        "colab": {
          "base_uri": "https://localhost:8080/"
        },
        "id": "Wg2zf2oFFTIM",
        "outputId": "6f112806-936b-4538-f7d2-cc214ca842c6"
      },
      "outputs": [
        {
          "name": "stdout",
          "output_type": "stream",
          "text": [
            "time column datatype: [('time', 'string')]\n",
            "time column datatype: [('time', 'int')]\n",
            "Null values in dataframe: time    0\n",
            "dtype: int64\n",
            "pandas df datatype: time    datetime64[ns]\n",
            "dtype: object\n",
            "spark datatype: [('time', 'date')]\n",
            "+----------+\n",
            "|time      |\n",
            "+----------+\n",
            "|2011-04-27|\n",
            "|2012-09-07|\n",
            "|2008-08-18|\n",
            "|2011-06-13|\n",
            "|2012-10-21|\n",
            "+----------+\n",
            "only showing top 5 rows\n",
            "\n"
          ]
        }
      ],
      "source": [
        "timestamp_col = \"time\"\n",
        "\n",
        "datetime_conversion(timestamp_col)\n"
      ]
    },
    {
      "cell_type": "markdown",
      "metadata": {
        "id": "uNVLF0L5QJIz"
      },
      "source": [
        "Creating the final reviews time column\n",
        "* we will split our reviews_time to three columns: year, month and day\n",
        "* add a primarykey/index called time_id\n",
        "* then rename the time column to datetime"
      ]
    },
    {
      "cell_type": "code",
      "execution_count": 41,
      "metadata": {
        "colab": {
          "base_uri": "https://localhost:8080/"
        },
        "id": "gfPTjr3NGP2Y",
        "outputId": "ab52fec2-1be0-40ef-c371-5077d7bdb1a2"
      },
      "outputs": [
        {
          "name": "stdout",
          "output_type": "stream",
          "text": [
            "+----------+----+-----+---+-------+\n",
            "|datetime  |year|month|day|time_id|\n",
            "+----------+----+-----+---+-------+\n",
            "|2011-04-27|2011|4    |27 |0      |\n",
            "|2012-09-07|2012|9    |7  |1      |\n",
            "|2008-08-18|2008|8    |18 |2      |\n",
            "|2011-06-13|2011|6    |13 |3      |\n",
            "|2012-10-21|2012|10   |21 |4      |\n",
            "+----------+----+-----+---+-------+\n",
            "only showing top 5 rows\n",
            "\n"
          ]
        }
      ],
      "source": [
        "#Split the reviews_time table to year, month, week columns\n",
        "reviews_time = reviews_time.withColumn('year',F.year(reviews_time.time))\\\n",
        "                   .withColumn(\"month\", F.month(reviews_time.time))\\\n",
        "                   .withColumn(\"day\", F.dayofmonth(reviews_time.time))\n",
        "#reviews_time.show()\n",
        "#create time id \n",
        "reviews_time = reviews_time.withColumn(\"time_id\", F.monotonically_increasing_id())\n",
        "#rename the review column\n",
        "reviews_time = reviews_time.withColumnRenamed('time','datetime')\n",
        "#print the final column\n",
        "reviews_time.show(5, False)"
      ]
    },
    {
      "cell_type": "code",
      "execution_count": 42,
      "metadata": {
        "colab": {
          "base_uri": "https://localhost:8080/"
        },
        "id": "5vadWtx0dlgz",
        "outputId": "7ec0f16d-78cb-4248-a124-9ef14c7fd6f9"
      },
      "outputs": [
        {
          "data": {
            "text/plain": [
              "568441"
            ]
          },
          "execution_count": 42,
          "metadata": {},
          "output_type": "execute_result"
        }
      ],
      "source": [
        "reviews_time.count()"
      ]
    },
    {
      "cell_type": "markdown",
      "metadata": {
        "id": "7i-hPx9yMv9Q"
      },
      "source": [
        "### Step 3: Define the Data Model\n",
        "#### 3.1 Conceptual Data Model\n",
        "Star schema\n",
        "I chose to utilize the star schema because:\n",
        "* we can easily separate factual data such as price, score from descriptive data with features such as name, category etc\n",
        "* we can easily perform joins between fact tables and dimensional tables because the fact table contains foreign keys referencing our fact tables\n",
        "* the tables are denormalised to speed up sql queries and reads\n",
        "* [source](https://www.integrate.io/blog/snowflake-schemas-vs-star-schemas-what-are-they-and-how-are-they-different/)\n",
        "\n"
      ]
    },
    {
      "cell_type": "markdown",
      "metadata": {
        "id": "fLvRqV3W3wyH"
      },
      "source": [
        "### Mapping Out Data Pipelines\n",
        "#### Upload Google drive\n",
        "* download kaggle datasets from links provided above\n",
        "* Note that due to data transfer charges, we have uploaded to google drive \n",
        "instead of s3\n",
        "* go to your google drive and upload the data\n",
        "#### use google colab  to connect to google drive\n",
        "* create your spark session\n",
        "* Note that because of data transfer charges, we have connected to google drive instead to access the data\n",
        "* mount your google drive to your google colab notebook\n",
        "#### Preprocess and clean data\n",
        "* Clean the best seller and reviews table by:\n",
        "  * removing duplicates(for their respective table ids)\n",
        "  * replacing null values with NaN,\n",
        "* create a time table\n",
        "   * extract the timestamp from the reviews table as a reviews_time table\n",
        "   * convert it's string values into integers\n",
        "   * convert to a pandas data frame then change it to a datetime datatype\n",
        "   * convert back to a spark dataframe and segement into year, month and day columns\n",
        "* drop the time column from the reviews table\n",
        "\n",
        "#### Create the Star schema\n",
        "* create the dimension tables bestseller, reviews, time\n",
        "* fact table bestseller_reviews\n",
        "\n",
        "#### Run data Quality checks\n",
        "* check if the fact and dimensions tables have no records\n",
        "\n",
        "#### Run analysis queries\n",
        "* WE will use joins between our fact and dimension tables to complete queries\n",
        "### Upload to google drive\n",
        "* convert data to parquet to reduce the size\n",
        "* We will save our data to google drive"
      ]
    },
    {
      "cell_type": "markdown",
      "metadata": {
        "id": "Ca2aSX36NIOk"
      },
      "source": [
        "### Step 4: Run Pipelines to Model the Data \n",
        "#### 4.1 Create the data model\n",
        "Build the data pipelines to create the data model."
      ]
    },
    {
      "cell_type": "markdown",
      "metadata": {
        "id": "zfUqNXQocgtP"
      },
      "source": [
        "old denormalized schema"
      ]
    },
    {
      "cell_type": "code",
      "execution_count": 43,
      "metadata": {
        "colab": {
          "base_uri": "https://localhost:8080/"
        },
        "id": "OPzSVDtdLL6L",
        "outputId": "53ee4bd6-1fda-47ad-dc21-4d2c78d268da"
      },
      "outputs": [
        {
          "name": "stdout",
          "output_type": "stream",
          "text": [
            "root\n",
            " |-- bestseller_description: string (nullable = true)\n",
            " |-- category: string (nullable = true)\n",
            " |-- links: string (nullable = true)\n",
            " |-- title: string (nullable = true)\n",
            " |-- price: string (nullable = true)\n",
            " |-- image_url: string (nullable = true)\n",
            " |-- rating: string (nullable = true)\n",
            " |-- no_of_reviews: string (nullable = true)\n",
            " |-- bestseller_id: long (nullable = false)\n",
            "\n",
            "root\n",
            " |-- review_id: string (nullable = true)\n",
            " |-- product_id: string (nullable = true)\n",
            " |-- user_id: string (nullable = true)\n",
            " |-- profile_name: string (nullable = true)\n",
            " |-- helpfulness_numerator: string (nullable = true)\n",
            " |-- helpfulness_denominator: string (nullable = true)\n",
            " |-- Score: string (nullable = true)\n",
            " |-- Time: string (nullable = true)\n",
            " |-- Summary: string (nullable = true)\n",
            " |-- Text: string (nullable = true)\n",
            "\n",
            "root\n",
            " |-- datetime: date (nullable = true)\n",
            " |-- year: integer (nullable = true)\n",
            " |-- month: integer (nullable = true)\n",
            " |-- day: integer (nullable = true)\n",
            " |-- time_id: long (nullable = false)\n",
            "\n"
          ]
        }
      ],
      "source": [
        "bestsellers_df.printSchema()\n",
        "reviews_df.printSchema()\n",
        "reviews_time.printSchema()"
      ]
    },
    {
      "cell_type": "markdown",
      "metadata": {
        "id": "5eTlN_rySrbe"
      },
      "source": [
        "## Dimension Tables\n",
        "### bestseller\n",
        "* bestseller_id,\n",
        "* bestseller_description\n",
        "* category,\n",
        "* links,\n",
        "* title,\n",
        "* image_url,\n",
        "* rating\n",
        "\n",
        "### reviews\n",
        "* review_id, \n",
        "* profile_name,\n",
        "* summary\n",
        "* text\n",
        "\n",
        "### time\n",
        "* time,\n",
        "* day\n",
        "* month\n",
        "* year"
      ]
    },
    {
      "cell_type": "code",
      "execution_count": 44,
      "metadata": {
        "id": "j6ax7RjQdFau"
      },
      "outputs": [],
      "source": [
        "from pyspark.sql.types import StructType, StructField, IntegerType, StringType, LongType, IntegerType, DateType"
      ]
    },
    {
      "cell_type": "markdown",
      "metadata": {
        "id": "5DnCwJnJjTo9"
      },
      "source": [
        "bestsellers"
      ]
    },
    {
      "cell_type": "code",
      "execution_count": 45,
      "metadata": {
        "id": "vZ3F5lsNc6cD"
      },
      "outputs": [],
      "source": [
        "#initialize our values\n",
        "bestseller_cols = [\"bestseller_id\",\"bestseller_description\", \"category\", \"links\", \"title\", \"image_url\", \"rating\"]\n",
        "bestsellers_schema = StructType([\n",
        "    StructField(\"bestseller_id\", LongType(), False),\n",
        "    StructField(\"bestseller_description\", StringType(), True),\n",
        "    StructField(\"category\", StringType(), True),\n",
        "    StructField(\"links\", StringType(), True),\n",
        "    StructField(\"title\", StringType(), True),\n",
        "    StructField(\"image_url\", StringType(), True),\n",
        "    StructField(\"rating\", StringType(), True)\n",
        "])\n",
        "\n",
        "bestsellers = spark.createDataFrame([], bestsellers_schema)"
      ]
    },
    {
      "cell_type": "code",
      "execution_count": 46,
      "metadata": {
        "id": "ZHaLJOPUcUwY"
      },
      "outputs": [],
      "source": [
        "\"\"\"\n",
        "- note that we are getting our updating our global initial dimension table for \n",
        "  each function\n",
        "- this is because without updating the global_variable, the table insertion will \n",
        "  remain a local variable in the function.\n",
        "- In turn, this means will fail to insert data from our dataframes into \n",
        "  the new sql table\n",
        "\"\"\"\n",
        "\n",
        "def create_dim_bestsellers_table(table, df, cols):\n",
        "  \"\"\"\n",
        "  description\n",
        "    - this function will create our dimension tables\n",
        "  Args:\n",
        "    - table: our target table\n",
        "    - df: the dataframe utilized to create our table\n",
        "    - cols: the new columns created for our table\n",
        "  Returns:\n",
        "    - the target table's schema\n",
        "  \"\"\"\n",
        "  #set our table as the global table\n",
        "  #note\n",
        "  table = df.select(\n",
        "      cols\n",
        "  )\n",
        "  ### update our global bestseller table with the inserted data\n",
        "  globals()[\"bestsellers\"] = table\n",
        "  #return the schema of our new table\n",
        "\n",
        "  return table.printSchema()"
      ]
    },
    {
      "cell_type": "code",
      "execution_count": 47,
      "metadata": {
        "colab": {
          "base_uri": "https://localhost:8080/"
        },
        "id": "a1NEJHr6eP86",
        "outputId": "0d5ecf87-c0e4-4a77-b7ce-121c4fdd9c90"
      },
      "outputs": [
        {
          "name": "stdout",
          "output_type": "stream",
          "text": [
            "root\n",
            " |-- bestseller_id: long (nullable = false)\n",
            " |-- bestseller_description: string (nullable = true)\n",
            " |-- category: string (nullable = true)\n",
            " |-- links: string (nullable = true)\n",
            " |-- title: string (nullable = true)\n",
            " |-- image_url: string (nullable = true)\n",
            " |-- rating: string (nullable = true)\n",
            "\n"
          ]
        }
      ],
      "source": [
        "create_dim_bestsellers_table(bestsellers, bestsellers_df, bestseller_cols)"
      ]
    },
    {
      "cell_type": "code",
      "execution_count": 48,
      "metadata": {
        "colab": {
          "base_uri": "https://localhost:8080/"
        },
        "id": "xRn_gF0TWZzO",
        "outputId": "02282abd-2ede-48cf-da77-f038b1128ae9"
      },
      "outputs": [
        {
          "name": "stdout",
          "output_type": "stream",
          "text": [
            "+-------------+-----------------------------------------------------------------------------------------------------------------------------+-----------------------------------------------+-------------------------------------------------------------------------------------------------------------------+------------------+---------+------+\n",
            "|bestseller_id|bestseller_description                                                                                                       |category                                       |links                                                                                                              |title             |image_url|rating|\n",
            "+-------------+-----------------------------------------------------------------------------------------------------------------------------+-----------------------------------------------+-------------------------------------------------------------------------------------------------------------------+------------------+---------+------+\n",
            "|0            |B07HF3X6Y4                                                                                                                   |Any Department/Home & Kitchen/ Irons & Steamers|https://www.amazon.com/Hilife-Steamer-Handheld-Clothing-Capacity/dp/B07HF3X6Y4?_encoding=UTF8&psc=1                |\"                 |null     |null  |\n",
            "|1            |            Hilife Steamer for Clothes Steamer                                                                               | Handheld Garment Steamer Clothing             | Mini Travel Steamer Fabric Steam Iron 240ml Big Capacity [Upgraded Version]                                       |null              |null     |null  |\n",
            "|2            |        \"                                                                                                                    |$24.99                                         |https://images-na.ssl-images-amazon.com/images/I/61bfV0VZhUL._AC_UL200_SR200,200_.jpg                              |4.4 out of 5 stars|null     |null  |\n",
            "|3            |B07JVFZJT7                                                                                                                   |Any Department/Home & Kitchen/ Irons & Steamers|https://www.amazon.com/Professional-Resistant-Stainless-Self-Cleaning-Thermostat/dp/B07JVFZJT7?_encoding=UTF8&psc=1|\"                 |null     |null  |\n",
            "|4            |            Professional Grade 1700W Steam Iron for Clothes with Rapid Even Heat Scratch Resistant Stainless Steel Sole Plate| True Position Axial Aligned Steam Holes       | Self-Cleaning Function                                                                                            |null              |null     |null  |\n",
            "+-------------+-----------------------------------------------------------------------------------------------------------------------------+-----------------------------------------------+-------------------------------------------------------------------------------------------------------------------+------------------+---------+------+\n",
            "only showing top 5 rows\n",
            "\n"
          ]
        }
      ],
      "source": [
        "bestsellers.show(5, False)"
      ]
    },
    {
      "cell_type": "markdown",
      "metadata": {
        "id": "rFG5fpjWjXOp"
      },
      "source": [
        "reviews"
      ]
    },
    {
      "cell_type": "code",
      "execution_count": 49,
      "metadata": {
        "id": "AdzMjAEdcCAz"
      },
      "outputs": [],
      "source": [
        "#initialize our values\n",
        "review_cols = [\"review_id\",\"profile_name\", \"Summary\", \"Text\"]\n",
        "# create reviews table\n",
        "reviews_schema = StructType([\n",
        "    StructField(\"review_id\", LongType(), False),\n",
        "    StructField(\"profile_name\", StringType(), True),\n",
        "    StructField(\"Summary\", StringType(), True),\n",
        "    StructField(\"Text\", StringType(), True)\n",
        "])\n",
        "\n",
        "reviews = spark.createDataFrame([], reviews_schema)"
      ]
    },
    {
      "cell_type": "code",
      "execution_count": 50,
      "metadata": {
        "id": "KBXwX22nlv6O"
      },
      "outputs": [],
      "source": [
        "\"\"\"\n",
        "- note that we are getting our updating our global initial dimension table for \n",
        "  each function\n",
        "- this is because without updating the global_variable, the table insertion will \n",
        "  remain a local variable in the function.\n",
        "- In turn, this means will fail to insert data from our dataframes into \n",
        "  the new sql table\n",
        "\"\"\"\n",
        "#create the reviews table\n",
        "def create_dim_reviews_table(table, df, cols):\n",
        "  \"\"\"\n",
        "  description\n",
        "    - this function will create our dimension tables\n",
        "  Args:\n",
        "    - table: our target table\n",
        "    - df: the dataframe utilized to create our table\n",
        "    - cols: the new columns created for our table\n",
        "  Returns:\n",
        "    - the target table's schema\n",
        "  \"\"\"\n",
        "  #insert data in table\n",
        "  table = df.select(\n",
        "      cols\n",
        "  )\n",
        "  # update our global time table with the inserted data\n",
        "  globals()[\"reviews\"] = table\n",
        "  #return the schema of our new table\n",
        "\n",
        "  return table.printSchema()"
      ]
    },
    {
      "cell_type": "code",
      "execution_count": 51,
      "metadata": {
        "colab": {
          "base_uri": "https://localhost:8080/"
        },
        "id": "PXSrELo2geRm",
        "outputId": "20e38d5a-b5b3-4f70-ee1d-bfe8ede75b63"
      },
      "outputs": [
        {
          "name": "stdout",
          "output_type": "stream",
          "text": [
            "root\n",
            " |-- review_id: string (nullable = true)\n",
            " |-- profile_name: string (nullable = true)\n",
            " |-- Summary: string (nullable = true)\n",
            " |-- Text: string (nullable = true)\n",
            "\n"
          ]
        }
      ],
      "source": [
        "create_dim_reviews_table(reviews, reviews_df, review_cols)"
      ]
    },
    {
      "cell_type": "code",
      "execution_count": 52,
      "metadata": {
        "colab": {
          "base_uri": "https://localhost:8080/"
        },
        "id": "XAHntThjh2fC",
        "outputId": "0ee35d00-454d-41a6-9ccc-b4fb7d683f1e"
      },
      "outputs": [
        {
          "name": "stdout",
          "output_type": "stream",
          "text": [
            "+---------+-----------------------------------+-------------------------+--------------------------------------------------------------------------------------------------------------------------------------------------------------------------------------------------------------------------------------------------------------------------------------------------------------------------------------------------------------------------------------------------+\n",
            "|review_id|profile_name                       |Summary                  |Text                                                                                                                                                                                                                                                                                                                                                                                              |\n",
            "+---------+-----------------------------------+-------------------------+--------------------------------------------------------------------------------------------------------------------------------------------------------------------------------------------------------------------------------------------------------------------------------------------------------------------------------------------------------------------------------------------------+\n",
            "|1        |delmartian                         |Good Quality Dog Food    |I have bought several of the Vitality canned dog food products and have found them all to be of good quality. The product looks more like a stew than a processed meat and it smells better. My Labrador is finicky and she appreciates this product better than  most.                                                                                                                           |\n",
            "|2        |dll pa                             |Not as Advertised        |\"Product arrived labeled as Jumbo Salted Peanuts...the peanuts were actually small sized unsalted. Not sure if this was an error or if the vendor intended to represent the product as \"\"Jumbo\"\".\"                                                                                                                                                                                                |\n",
            "|3        |\"Natalia Corres \"\"Natalia Corres\"\"\"|\"\"\"Delight\"\" says it all\"|\"This is a confection that has been around a few centuries.  It is a light, pillowy citrus gelatin with nuts - in this case Filberts. And it is cut into tiny squares and then liberally coated with powdered sugar.  And it is a tiny mouthful of heaven.  Not too chewy, and very flavorful.  I highly recommend this yummy treat.  If you are familiar with the story of C.S. Lewis' \"\"The Lion|\n",
            "|4        |Karl                               |Cough Medicine           |If you are looking for the secret ingredient in Robitussin I believe I have found it.  I got this in addition to the Root Beer Extract I ordered (which was good) and made some cherry soda.  The flavor is very medicinal.                                                                                                                                                                       |\n",
            "|5        |\"Michael D. Bigham \"\"M. Wassir\"\"\"  |Great taffy              |Great taffy at a great price.  There was a wide assortment of yummy taffy.  Delivery was very quick.  If your a taffy lover, this is a deal.                                                                                                                                                                                                                                                      |\n",
            "+---------+-----------------------------------+-------------------------+--------------------------------------------------------------------------------------------------------------------------------------------------------------------------------------------------------------------------------------------------------------------------------------------------------------------------------------------------------------------------------------------------+\n",
            "only showing top 5 rows\n",
            "\n"
          ]
        }
      ],
      "source": [
        "reviews.show(5, False)"
      ]
    },
    {
      "cell_type": "markdown",
      "metadata": {
        "id": "dlkC0QO0jZ-W"
      },
      "source": [
        "time"
      ]
    },
    {
      "cell_type": "code",
      "execution_count": 90,
      "metadata": {
        "id": "2FlSWiRzkLq8"
      },
      "outputs": [],
      "source": [
        "time_cols = [\"time_id\", \"datetime\", \"day\", \"month\", \"year\"]\n",
        "\n",
        "time_schema = StructType([\n",
        "    StructField(\"time_id\", LongType(), False),\n",
        "    StructField(\"datetime\", DateType(), True),\n",
        "    StructField(\"day\", IntegerType(), True),\n",
        "    StructField(\"month\", IntegerType(), True),\n",
        "    StructField(\"year\", IntegerType(), True),\n",
        "])\n",
        "\n",
        "time = spark.createDataFrame([], time_schema)"
      ]
    },
    {
      "cell_type": "code",
      "execution_count": 91,
      "metadata": {
        "id": "bzKWXfBBi5e2"
      },
      "outputs": [],
      "source": [
        "\"\"\"\n",
        "- note that we are getting our updating our global initial dimension table for \n",
        "  each function\n",
        "- this is because without updating the global_variable, the table insertion will \n",
        "  remain a local variable in the function.\n",
        "- In turn, this means will fail to insert data from our dataframes into \n",
        "  the new sql table\n",
        "\"\"\"\n",
        "def create_dim_time_table(table, df, cols):\n",
        "  \"\"\"\n",
        "  description\n",
        "    - this function will create our dimension tables\n",
        "  Args:\n",
        "    - table: our target table\n",
        "    - df: the dataframe utilized to create our table\n",
        "    - cols: the new columns created for our table\n",
        "  Returns:\n",
        "    - the target table's schema\n",
        "  \"\"\"\n",
        "  #insert data into table\n",
        "  table = df.select(\n",
        "      cols\n",
        "  )\n",
        "  ### update our global time table with the inserted data\n",
        "  globals()[\"time\"] = table\n",
        "  #return the schema of our new table\n",
        "\n",
        "  return table.printSchema()"
      ]
    },
    {
      "cell_type": "code",
      "execution_count": 92,
      "metadata": {
        "colab": {
          "base_uri": "https://localhost:8080/"
        },
        "id": "nIA-4o5alUUC",
        "outputId": "8cd7e856-81d0-463d-f8c7-c9da7f5c6200"
      },
      "outputs": [
        {
          "name": "stdout",
          "output_type": "stream",
          "text": [
            "root\n",
            " |-- time_id: long (nullable = false)\n",
            " |-- datetime: date (nullable = true)\n",
            " |-- day: integer (nullable = true)\n",
            " |-- month: integer (nullable = true)\n",
            " |-- year: integer (nullable = true)\n",
            "\n"
          ]
        }
      ],
      "source": [
        "create_dim_time_table(time, reviews_time, time_cols)"
      ]
    },
    {
      "cell_type": "code",
      "execution_count": 93,
      "metadata": {
        "colab": {
          "base_uri": "https://localhost:8080/"
        },
        "id": "Y2MYR_IXcI1i",
        "outputId": "1a739161-9da3-4f06-aada-5a7778a42b82"
      },
      "outputs": [
        {
          "name": "stdout",
          "output_type": "stream",
          "text": [
            "+-------+----------+---+-----+----+\n",
            "|time_id|datetime  |day|month|year|\n",
            "+-------+----------+---+-----+----+\n",
            "|0      |2011-04-27|27 |4    |2011|\n",
            "|1      |2012-09-07|7  |9    |2012|\n",
            "|2      |2008-08-18|18 |8    |2008|\n",
            "|3      |2011-06-13|13 |6    |2011|\n",
            "|4      |2012-10-21|21 |10   |2012|\n",
            "+-------+----------+---+-----+----+\n",
            "only showing top 5 rows\n",
            "\n"
          ]
        }
      ],
      "source": [
        "#time dimension table\n",
        "time.show(5, False)"
      ]
    },
    {
      "cell_type": "markdown",
      "metadata": {
        "id": "euuu--MZuVeo"
      },
      "source": [
        "## Fact table\n",
        "### bestseller_reviews\n",
        "* bestseller_id\n",
        "* price\n",
        "* no_of_reviews\n",
        "* review_id\n",
        "* product_id\n",
        "* user_id\n",
        "* helpfulness_numerator\n",
        "* helpfulness_denominator\n",
        "* score\n",
        "* time_id\n",
        "* bestseller_review_id"
      ]
    },
    {
      "cell_type": "markdown",
      "metadata": {
        "id": "12PSc4qRuZiU"
      },
      "source": [
        "* we will convert our old dataframes to pandas\n",
        "* join them to one fact table\n",
        "* then create a fact table as pandas dataframe"
      ]
    },
    {
      "cell_type": "code",
      "execution_count": 57,
      "metadata": {
        "id": "zCGyWLMiuWsl"
      },
      "outputs": [],
      "source": [
        "#initalization of tables of interest\n",
        "bestsellers_fact = bestsellers_df.select([\"bestseller_id\", \"price\", \"no_of_reviews\"])\n",
        "reviews_fact = reviews_df.select([\"review_id\", \"product_id\", \"user_id\",\"helpfulness_numerator\",\"helpfulness_denominator\", \"Score\"])\n",
        "time_fact = reviews_time.select([\"time_id\"])\n",
        "df_list = [bestsellers_fact, reviews_fact, time_fact]\n",
        "fact_schema = StructType([\n",
        "    StructField(\"bestseller_id\", LongType(), False),\n",
        "    StructField(\"price\", IntegerType(), True),\n",
        "    StructField(\"no_of_reviews\", StringType(), True),\n",
        "    StructField(\"review_id\", LongType(), False),\n",
        "    StructField(\"product_id\", StringType(), True),\n",
        "    StructField(\"user_id\", StringType(), True),\n",
        "    StructField(\"helpfulness_numerator\", StringType(), True),\n",
        "    StructField(\"helpfulness_denominator\", StringType(), True),\n",
        "    StructField(\"score\", StringType(), True),\n",
        "    StructField(\"time_id\", LongType(), False)\n",
        "])\n",
        "bestsellers_reviews = spark.createDataFrame([], fact_schema)\n",
        "bestsellers_reviews = bestsellers_reviews.toPandas()"
      ]
    },
    {
      "cell_type": "code",
      "execution_count": 58,
      "metadata": {
        "colab": {
          "base_uri": "https://localhost:8080/",
          "height": 49
        },
        "id": "ZgM3Yr_k3rka",
        "outputId": "c24371d0-38ed-4ee3-a906-868254d9e32d"
      },
      "outputs": [
        {
          "data": {
            "text/html": [
              "\n",
              "  <div id=\"df-1c4a8f14-662f-4d8d-9771-141c717136ea\">\n",
              "    <div class=\"colab-df-container\">\n",
              "      <div>\n",
              "<style scoped>\n",
              "    .dataframe tbody tr th:only-of-type {\n",
              "        vertical-align: middle;\n",
              "    }\n",
              "\n",
              "    .dataframe tbody tr th {\n",
              "        vertical-align: top;\n",
              "    }\n",
              "\n",
              "    .dataframe thead th {\n",
              "        text-align: right;\n",
              "    }\n",
              "</style>\n",
              "<table border=\"1\" class=\"dataframe\">\n",
              "  <thead>\n",
              "    <tr style=\"text-align: right;\">\n",
              "      <th></th>\n",
              "      <th>bestseller_id</th>\n",
              "      <th>price</th>\n",
              "      <th>no_of_reviews</th>\n",
              "      <th>review_id</th>\n",
              "      <th>product_id</th>\n",
              "      <th>user_id</th>\n",
              "      <th>helpfulness_numerator</th>\n",
              "      <th>helpfulness_denominator</th>\n",
              "      <th>score</th>\n",
              "      <th>time_id</th>\n",
              "    </tr>\n",
              "  </thead>\n",
              "  <tbody>\n",
              "  </tbody>\n",
              "</table>\n",
              "</div>\n",
              "      <button class=\"colab-df-convert\" onclick=\"convertToInteractive('df-1c4a8f14-662f-4d8d-9771-141c717136ea')\"\n",
              "              title=\"Convert this dataframe to an interactive table.\"\n",
              "              style=\"display:none;\">\n",
              "        \n",
              "  <svg xmlns=\"http://www.w3.org/2000/svg\" height=\"24px\"viewBox=\"0 0 24 24\"\n",
              "       width=\"24px\">\n",
              "    <path d=\"M0 0h24v24H0V0z\" fill=\"none\"/>\n",
              "    <path d=\"M18.56 5.44l.94 2.06.94-2.06 2.06-.94-2.06-.94-.94-2.06-.94 2.06-2.06.94zm-11 1L8.5 8.5l.94-2.06 2.06-.94-2.06-.94L8.5 2.5l-.94 2.06-2.06.94zm10 10l.94 2.06.94-2.06 2.06-.94-2.06-.94-.94-2.06-.94 2.06-2.06.94z\"/><path d=\"M17.41 7.96l-1.37-1.37c-.4-.4-.92-.59-1.43-.59-.52 0-1.04.2-1.43.59L10.3 9.45l-7.72 7.72c-.78.78-.78 2.05 0 2.83L4 21.41c.39.39.9.59 1.41.59.51 0 1.02-.2 1.41-.59l7.78-7.78 2.81-2.81c.8-.78.8-2.07 0-2.86zM5.41 20L4 18.59l7.72-7.72 1.47 1.35L5.41 20z\"/>\n",
              "  </svg>\n",
              "      </button>\n",
              "      \n",
              "  <style>\n",
              "    .colab-df-container {\n",
              "      display:flex;\n",
              "      flex-wrap:wrap;\n",
              "      gap: 12px;\n",
              "    }\n",
              "\n",
              "    .colab-df-convert {\n",
              "      background-color: #E8F0FE;\n",
              "      border: none;\n",
              "      border-radius: 50%;\n",
              "      cursor: pointer;\n",
              "      display: none;\n",
              "      fill: #1967D2;\n",
              "      height: 32px;\n",
              "      padding: 0 0 0 0;\n",
              "      width: 32px;\n",
              "    }\n",
              "\n",
              "    .colab-df-convert:hover {\n",
              "      background-color: #E2EBFA;\n",
              "      box-shadow: 0px 1px 2px rgba(60, 64, 67, 0.3), 0px 1px 3px 1px rgba(60, 64, 67, 0.15);\n",
              "      fill: #174EA6;\n",
              "    }\n",
              "\n",
              "    [theme=dark] .colab-df-convert {\n",
              "      background-color: #3B4455;\n",
              "      fill: #D2E3FC;\n",
              "    }\n",
              "\n",
              "    [theme=dark] .colab-df-convert:hover {\n",
              "      background-color: #434B5C;\n",
              "      box-shadow: 0px 1px 3px 1px rgba(0, 0, 0, 0.15);\n",
              "      filter: drop-shadow(0px 1px 2px rgba(0, 0, 0, 0.3));\n",
              "      fill: #FFFFFF;\n",
              "    }\n",
              "  </style>\n",
              "\n",
              "      <script>\n",
              "        const buttonEl =\n",
              "          document.querySelector('#df-1c4a8f14-662f-4d8d-9771-141c717136ea button.colab-df-convert');\n",
              "        buttonEl.style.display =\n",
              "          google.colab.kernel.accessAllowed ? 'block' : 'none';\n",
              "\n",
              "        async function convertToInteractive(key) {\n",
              "          const element = document.querySelector('#df-1c4a8f14-662f-4d8d-9771-141c717136ea');\n",
              "          const dataTable =\n",
              "            await google.colab.kernel.invokeFunction('convertToInteractive',\n",
              "                                                     [key], {});\n",
              "          if (!dataTable) return;\n",
              "\n",
              "          const docLinkHtml = 'Like what you see? Visit the ' +\n",
              "            '<a target=\"_blank\" href=https://colab.research.google.com/notebooks/data_table.ipynb>data table notebook</a>'\n",
              "            + ' to learn more about interactive tables.';\n",
              "          element.innerHTML = '';\n",
              "          dataTable['output_type'] = 'display_data';\n",
              "          await google.colab.output.renderOutput(dataTable, element);\n",
              "          const docLink = document.createElement('div');\n",
              "          docLink.innerHTML = docLinkHtml;\n",
              "          element.appendChild(docLink);\n",
              "        }\n",
              "      </script>\n",
              "    </div>\n",
              "  </div>\n",
              "  "
            ],
            "text/plain": [
              "Empty DataFrame\n",
              "Columns: [bestseller_id, price, no_of_reviews, review_id, product_id, user_id, helpfulness_numerator, helpfulness_denominator, score, time_id]\n",
              "Index: []"
            ]
          },
          "execution_count": 58,
          "metadata": {},
          "output_type": "execute_result"
        }
      ],
      "source": [
        "#empty fact table\n",
        "bestsellers_reviews.head(5)"
      ]
    },
    {
      "cell_type": "code",
      "execution_count": 59,
      "metadata": {
        "id": "w8ffg4x1vHgO"
      },
      "outputs": [],
      "source": [
        "#create fact table function\n",
        "def create_bestsellers_reviews_fact_table(df_list, id_col):\n",
        "  \"\"\"\n",
        "    Description:\n",
        "      - This function creates our fact table\n",
        "    Args:\n",
        "      - df_list: the list of tables we will concat to create the fact table in pandas\n",
        "      - id_col: the col that will act as the index of our fact_table\n",
        "    Returns:\n",
        "      - joined fact_table first 5 values\n",
        "  \"\"\"\n",
        "  #convert the spark dataframes to pandas\n",
        "  fact_pd1 = df_list[0].toPandas()\n",
        "  fact_pd2 = df_list[1].toPandas()\n",
        "  fact_pd3 = df_list[2].toPandas()\n",
        "  #concatenate the tables\n",
        "  fact_temp = pd.concat([fact_pd1, fact_pd2])\n",
        "  fact_temp = pd.concat([fact_temp, fact_pd3])\n",
        "  #update id\n",
        "  fact_temp.insert(0, id_col, range(1, 1 + len(fact_temp)))\n",
        "  ### update our global bestsellers table with the fact table\n",
        "  globals()[\"bestsellers_reviews\"] = fact_temp\n",
        "  #return the first 5 rows of the updated bestsellers_table table\n",
        "  return fact_temp.head(5)"
      ]
    },
    {
      "cell_type": "code",
      "execution_count": 60,
      "metadata": {
        "colab": {
          "base_uri": "https://localhost:8080/",
          "height": 206
        },
        "id": "A4Bx1yin3h7K",
        "outputId": "51f253b3-5704-4ff8-be6e-9e2dfd19f8ba"
      },
      "outputs": [
        {
          "data": {
            "text/html": [
              "\n",
              "  <div id=\"df-04aca58c-5cd5-411e-8c47-c373f59063c6\">\n",
              "    <div class=\"colab-df-container\">\n",
              "      <div>\n",
              "<style scoped>\n",
              "    .dataframe tbody tr th:only-of-type {\n",
              "        vertical-align: middle;\n",
              "    }\n",
              "\n",
              "    .dataframe tbody tr th {\n",
              "        vertical-align: top;\n",
              "    }\n",
              "\n",
              "    .dataframe thead th {\n",
              "        text-align: right;\n",
              "    }\n",
              "</style>\n",
              "<table border=\"1\" class=\"dataframe\">\n",
              "  <thead>\n",
              "    <tr style=\"text-align: right;\">\n",
              "      <th></th>\n",
              "      <th>bestsellers_reviews_id</th>\n",
              "      <th>bestseller_id</th>\n",
              "      <th>price</th>\n",
              "      <th>no_of_reviews</th>\n",
              "      <th>review_id</th>\n",
              "      <th>product_id</th>\n",
              "      <th>user_id</th>\n",
              "      <th>helpfulness_numerator</th>\n",
              "      <th>helpfulness_denominator</th>\n",
              "      <th>Score</th>\n",
              "      <th>time_id</th>\n",
              "    </tr>\n",
              "  </thead>\n",
              "  <tbody>\n",
              "    <tr>\n",
              "      <th>0</th>\n",
              "      <td>1</td>\n",
              "      <td>0.0</td>\n",
              "      <td>None</td>\n",
              "      <td>None</td>\n",
              "      <td>NaN</td>\n",
              "      <td>NaN</td>\n",
              "      <td>NaN</td>\n",
              "      <td>NaN</td>\n",
              "      <td>NaN</td>\n",
              "      <td>NaN</td>\n",
              "      <td>NaN</td>\n",
              "    </tr>\n",
              "    <tr>\n",
              "      <th>1</th>\n",
              "      <td>2</td>\n",
              "      <td>1.0</td>\n",
              "      <td>None</td>\n",
              "      <td>None</td>\n",
              "      <td>NaN</td>\n",
              "      <td>NaN</td>\n",
              "      <td>NaN</td>\n",
              "      <td>NaN</td>\n",
              "      <td>NaN</td>\n",
              "      <td>NaN</td>\n",
              "      <td>NaN</td>\n",
              "    </tr>\n",
              "    <tr>\n",
              "      <th>2</th>\n",
              "      <td>3</td>\n",
              "      <td>2.0</td>\n",
              "      <td>15,233</td>\n",
              "      <td>None</td>\n",
              "      <td>NaN</td>\n",
              "      <td>NaN</td>\n",
              "      <td>NaN</td>\n",
              "      <td>NaN</td>\n",
              "      <td>NaN</td>\n",
              "      <td>NaN</td>\n",
              "      <td>NaN</td>\n",
              "    </tr>\n",
              "    <tr>\n",
              "      <th>3</th>\n",
              "      <td>4</td>\n",
              "      <td>3.0</td>\n",
              "      <td>None</td>\n",
              "      <td>None</td>\n",
              "      <td>NaN</td>\n",
              "      <td>NaN</td>\n",
              "      <td>NaN</td>\n",
              "      <td>NaN</td>\n",
              "      <td>NaN</td>\n",
              "      <td>NaN</td>\n",
              "      <td>NaN</td>\n",
              "    </tr>\n",
              "    <tr>\n",
              "      <th>4</th>\n",
              "      <td>5</td>\n",
              "      <td>4.0</td>\n",
              "      <td>None</td>\n",
              "      <td>None</td>\n",
              "      <td>NaN</td>\n",
              "      <td>NaN</td>\n",
              "      <td>NaN</td>\n",
              "      <td>NaN</td>\n",
              "      <td>NaN</td>\n",
              "      <td>NaN</td>\n",
              "      <td>NaN</td>\n",
              "    </tr>\n",
              "  </tbody>\n",
              "</table>\n",
              "</div>\n",
              "      <button class=\"colab-df-convert\" onclick=\"convertToInteractive('df-04aca58c-5cd5-411e-8c47-c373f59063c6')\"\n",
              "              title=\"Convert this dataframe to an interactive table.\"\n",
              "              style=\"display:none;\">\n",
              "        \n",
              "  <svg xmlns=\"http://www.w3.org/2000/svg\" height=\"24px\"viewBox=\"0 0 24 24\"\n",
              "       width=\"24px\">\n",
              "    <path d=\"M0 0h24v24H0V0z\" fill=\"none\"/>\n",
              "    <path d=\"M18.56 5.44l.94 2.06.94-2.06 2.06-.94-2.06-.94-.94-2.06-.94 2.06-2.06.94zm-11 1L8.5 8.5l.94-2.06 2.06-.94-2.06-.94L8.5 2.5l-.94 2.06-2.06.94zm10 10l.94 2.06.94-2.06 2.06-.94-2.06-.94-.94-2.06-.94 2.06-2.06.94z\"/><path d=\"M17.41 7.96l-1.37-1.37c-.4-.4-.92-.59-1.43-.59-.52 0-1.04.2-1.43.59L10.3 9.45l-7.72 7.72c-.78.78-.78 2.05 0 2.83L4 21.41c.39.39.9.59 1.41.59.51 0 1.02-.2 1.41-.59l7.78-7.78 2.81-2.81c.8-.78.8-2.07 0-2.86zM5.41 20L4 18.59l7.72-7.72 1.47 1.35L5.41 20z\"/>\n",
              "  </svg>\n",
              "      </button>\n",
              "      \n",
              "  <style>\n",
              "    .colab-df-container {\n",
              "      display:flex;\n",
              "      flex-wrap:wrap;\n",
              "      gap: 12px;\n",
              "    }\n",
              "\n",
              "    .colab-df-convert {\n",
              "      background-color: #E8F0FE;\n",
              "      border: none;\n",
              "      border-radius: 50%;\n",
              "      cursor: pointer;\n",
              "      display: none;\n",
              "      fill: #1967D2;\n",
              "      height: 32px;\n",
              "      padding: 0 0 0 0;\n",
              "      width: 32px;\n",
              "    }\n",
              "\n",
              "    .colab-df-convert:hover {\n",
              "      background-color: #E2EBFA;\n",
              "      box-shadow: 0px 1px 2px rgba(60, 64, 67, 0.3), 0px 1px 3px 1px rgba(60, 64, 67, 0.15);\n",
              "      fill: #174EA6;\n",
              "    }\n",
              "\n",
              "    [theme=dark] .colab-df-convert {\n",
              "      background-color: #3B4455;\n",
              "      fill: #D2E3FC;\n",
              "    }\n",
              "\n",
              "    [theme=dark] .colab-df-convert:hover {\n",
              "      background-color: #434B5C;\n",
              "      box-shadow: 0px 1px 3px 1px rgba(0, 0, 0, 0.15);\n",
              "      filter: drop-shadow(0px 1px 2px rgba(0, 0, 0, 0.3));\n",
              "      fill: #FFFFFF;\n",
              "    }\n",
              "  </style>\n",
              "\n",
              "      <script>\n",
              "        const buttonEl =\n",
              "          document.querySelector('#df-04aca58c-5cd5-411e-8c47-c373f59063c6 button.colab-df-convert');\n",
              "        buttonEl.style.display =\n",
              "          google.colab.kernel.accessAllowed ? 'block' : 'none';\n",
              "\n",
              "        async function convertToInteractive(key) {\n",
              "          const element = document.querySelector('#df-04aca58c-5cd5-411e-8c47-c373f59063c6');\n",
              "          const dataTable =\n",
              "            await google.colab.kernel.invokeFunction('convertToInteractive',\n",
              "                                                     [key], {});\n",
              "          if (!dataTable) return;\n",
              "\n",
              "          const docLinkHtml = 'Like what you see? Visit the ' +\n",
              "            '<a target=\"_blank\" href=https://colab.research.google.com/notebooks/data_table.ipynb>data table notebook</a>'\n",
              "            + ' to learn more about interactive tables.';\n",
              "          element.innerHTML = '';\n",
              "          dataTable['output_type'] = 'display_data';\n",
              "          await google.colab.output.renderOutput(dataTable, element);\n",
              "          const docLink = document.createElement('div');\n",
              "          docLink.innerHTML = docLinkHtml;\n",
              "          element.appendChild(docLink);\n",
              "        }\n",
              "      </script>\n",
              "    </div>\n",
              "  </div>\n",
              "  "
            ],
            "text/plain": [
              "   bestsellers_reviews_id  bestseller_id   price no_of_reviews review_id  \\\n",
              "0                       1            0.0    None          None       NaN   \n",
              "1                       2            1.0    None          None       NaN   \n",
              "2                       3            2.0  15,233          None       NaN   \n",
              "3                       4            3.0    None          None       NaN   \n",
              "4                       5            4.0    None          None       NaN   \n",
              "\n",
              "  product_id user_id helpfulness_numerator helpfulness_denominator Score  \\\n",
              "0        NaN     NaN                   NaN                     NaN   NaN   \n",
              "1        NaN     NaN                   NaN                     NaN   NaN   \n",
              "2        NaN     NaN                   NaN                     NaN   NaN   \n",
              "3        NaN     NaN                   NaN                     NaN   NaN   \n",
              "4        NaN     NaN                   NaN                     NaN   NaN   \n",
              "\n",
              "   time_id  \n",
              "0      NaN  \n",
              "1      NaN  \n",
              "2      NaN  \n",
              "3      NaN  \n",
              "4      NaN  "
            ]
          },
          "execution_count": 60,
          "metadata": {},
          "output_type": "execute_result"
        }
      ],
      "source": [
        "id_col = \"bestsellers_reviews_id\"\n",
        "create_bestsellers_reviews_fact_table(df_list, id_col)"
      ]
    },
    {
      "cell_type": "code",
      "execution_count": 61,
      "metadata": {
        "colab": {
          "base_uri": "https://localhost:8080/",
          "height": 206
        },
        "id": "lUOSou1J0g_e",
        "outputId": "9525fad6-589a-4cdb-db7f-a3c882350ac0"
      },
      "outputs": [
        {
          "data": {
            "text/html": [
              "\n",
              "  <div id=\"df-e884dd5e-f8e9-4fee-a0b8-4288f1243e54\">\n",
              "    <div class=\"colab-df-container\">\n",
              "      <div>\n",
              "<style scoped>\n",
              "    .dataframe tbody tr th:only-of-type {\n",
              "        vertical-align: middle;\n",
              "    }\n",
              "\n",
              "    .dataframe tbody tr th {\n",
              "        vertical-align: top;\n",
              "    }\n",
              "\n",
              "    .dataframe thead th {\n",
              "        text-align: right;\n",
              "    }\n",
              "</style>\n",
              "<table border=\"1\" class=\"dataframe\">\n",
              "  <thead>\n",
              "    <tr style=\"text-align: right;\">\n",
              "      <th></th>\n",
              "      <th>bestsellers_reviews_id</th>\n",
              "      <th>bestseller_id</th>\n",
              "      <th>price</th>\n",
              "      <th>no_of_reviews</th>\n",
              "      <th>review_id</th>\n",
              "      <th>product_id</th>\n",
              "      <th>user_id</th>\n",
              "      <th>helpfulness_numerator</th>\n",
              "      <th>helpfulness_denominator</th>\n",
              "      <th>Score</th>\n",
              "      <th>time_id</th>\n",
              "    </tr>\n",
              "  </thead>\n",
              "  <tbody>\n",
              "    <tr>\n",
              "      <th>0</th>\n",
              "      <td>1</td>\n",
              "      <td>0.0</td>\n",
              "      <td>None</td>\n",
              "      <td>None</td>\n",
              "      <td>NaN</td>\n",
              "      <td>NaN</td>\n",
              "      <td>NaN</td>\n",
              "      <td>NaN</td>\n",
              "      <td>NaN</td>\n",
              "      <td>NaN</td>\n",
              "      <td>NaN</td>\n",
              "    </tr>\n",
              "    <tr>\n",
              "      <th>1</th>\n",
              "      <td>2</td>\n",
              "      <td>1.0</td>\n",
              "      <td>None</td>\n",
              "      <td>None</td>\n",
              "      <td>NaN</td>\n",
              "      <td>NaN</td>\n",
              "      <td>NaN</td>\n",
              "      <td>NaN</td>\n",
              "      <td>NaN</td>\n",
              "      <td>NaN</td>\n",
              "      <td>NaN</td>\n",
              "    </tr>\n",
              "    <tr>\n",
              "      <th>2</th>\n",
              "      <td>3</td>\n",
              "      <td>2.0</td>\n",
              "      <td>15,233</td>\n",
              "      <td>None</td>\n",
              "      <td>NaN</td>\n",
              "      <td>NaN</td>\n",
              "      <td>NaN</td>\n",
              "      <td>NaN</td>\n",
              "      <td>NaN</td>\n",
              "      <td>NaN</td>\n",
              "      <td>NaN</td>\n",
              "    </tr>\n",
              "    <tr>\n",
              "      <th>3</th>\n",
              "      <td>4</td>\n",
              "      <td>3.0</td>\n",
              "      <td>None</td>\n",
              "      <td>None</td>\n",
              "      <td>NaN</td>\n",
              "      <td>NaN</td>\n",
              "      <td>NaN</td>\n",
              "      <td>NaN</td>\n",
              "      <td>NaN</td>\n",
              "      <td>NaN</td>\n",
              "      <td>NaN</td>\n",
              "    </tr>\n",
              "    <tr>\n",
              "      <th>4</th>\n",
              "      <td>5</td>\n",
              "      <td>4.0</td>\n",
              "      <td>None</td>\n",
              "      <td>None</td>\n",
              "      <td>NaN</td>\n",
              "      <td>NaN</td>\n",
              "      <td>NaN</td>\n",
              "      <td>NaN</td>\n",
              "      <td>NaN</td>\n",
              "      <td>NaN</td>\n",
              "      <td>NaN</td>\n",
              "    </tr>\n",
              "  </tbody>\n",
              "</table>\n",
              "</div>\n",
              "      <button class=\"colab-df-convert\" onclick=\"convertToInteractive('df-e884dd5e-f8e9-4fee-a0b8-4288f1243e54')\"\n",
              "              title=\"Convert this dataframe to an interactive table.\"\n",
              "              style=\"display:none;\">\n",
              "        \n",
              "  <svg xmlns=\"http://www.w3.org/2000/svg\" height=\"24px\"viewBox=\"0 0 24 24\"\n",
              "       width=\"24px\">\n",
              "    <path d=\"M0 0h24v24H0V0z\" fill=\"none\"/>\n",
              "    <path d=\"M18.56 5.44l.94 2.06.94-2.06 2.06-.94-2.06-.94-.94-2.06-.94 2.06-2.06.94zm-11 1L8.5 8.5l.94-2.06 2.06-.94-2.06-.94L8.5 2.5l-.94 2.06-2.06.94zm10 10l.94 2.06.94-2.06 2.06-.94-2.06-.94-.94-2.06-.94 2.06-2.06.94z\"/><path d=\"M17.41 7.96l-1.37-1.37c-.4-.4-.92-.59-1.43-.59-.52 0-1.04.2-1.43.59L10.3 9.45l-7.72 7.72c-.78.78-.78 2.05 0 2.83L4 21.41c.39.39.9.59 1.41.59.51 0 1.02-.2 1.41-.59l7.78-7.78 2.81-2.81c.8-.78.8-2.07 0-2.86zM5.41 20L4 18.59l7.72-7.72 1.47 1.35L5.41 20z\"/>\n",
              "  </svg>\n",
              "      </button>\n",
              "      \n",
              "  <style>\n",
              "    .colab-df-container {\n",
              "      display:flex;\n",
              "      flex-wrap:wrap;\n",
              "      gap: 12px;\n",
              "    }\n",
              "\n",
              "    .colab-df-convert {\n",
              "      background-color: #E8F0FE;\n",
              "      border: none;\n",
              "      border-radius: 50%;\n",
              "      cursor: pointer;\n",
              "      display: none;\n",
              "      fill: #1967D2;\n",
              "      height: 32px;\n",
              "      padding: 0 0 0 0;\n",
              "      width: 32px;\n",
              "    }\n",
              "\n",
              "    .colab-df-convert:hover {\n",
              "      background-color: #E2EBFA;\n",
              "      box-shadow: 0px 1px 2px rgba(60, 64, 67, 0.3), 0px 1px 3px 1px rgba(60, 64, 67, 0.15);\n",
              "      fill: #174EA6;\n",
              "    }\n",
              "\n",
              "    [theme=dark] .colab-df-convert {\n",
              "      background-color: #3B4455;\n",
              "      fill: #D2E3FC;\n",
              "    }\n",
              "\n",
              "    [theme=dark] .colab-df-convert:hover {\n",
              "      background-color: #434B5C;\n",
              "      box-shadow: 0px 1px 3px 1px rgba(0, 0, 0, 0.15);\n",
              "      filter: drop-shadow(0px 1px 2px rgba(0, 0, 0, 0.3));\n",
              "      fill: #FFFFFF;\n",
              "    }\n",
              "  </style>\n",
              "\n",
              "      <script>\n",
              "        const buttonEl =\n",
              "          document.querySelector('#df-e884dd5e-f8e9-4fee-a0b8-4288f1243e54 button.colab-df-convert');\n",
              "        buttonEl.style.display =\n",
              "          google.colab.kernel.accessAllowed ? 'block' : 'none';\n",
              "\n",
              "        async function convertToInteractive(key) {\n",
              "          const element = document.querySelector('#df-e884dd5e-f8e9-4fee-a0b8-4288f1243e54');\n",
              "          const dataTable =\n",
              "            await google.colab.kernel.invokeFunction('convertToInteractive',\n",
              "                                                     [key], {});\n",
              "          if (!dataTable) return;\n",
              "\n",
              "          const docLinkHtml = 'Like what you see? Visit the ' +\n",
              "            '<a target=\"_blank\" href=https://colab.research.google.com/notebooks/data_table.ipynb>data table notebook</a>'\n",
              "            + ' to learn more about interactive tables.';\n",
              "          element.innerHTML = '';\n",
              "          dataTable['output_type'] = 'display_data';\n",
              "          await google.colab.output.renderOutput(dataTable, element);\n",
              "          const docLink = document.createElement('div');\n",
              "          docLink.innerHTML = docLinkHtml;\n",
              "          element.appendChild(docLink);\n",
              "        }\n",
              "      </script>\n",
              "    </div>\n",
              "  </div>\n",
              "  "
            ],
            "text/plain": [
              "   bestsellers_reviews_id  bestseller_id   price no_of_reviews review_id  \\\n",
              "0                       1            0.0    None          None       NaN   \n",
              "1                       2            1.0    None          None       NaN   \n",
              "2                       3            2.0  15,233          None       NaN   \n",
              "3                       4            3.0    None          None       NaN   \n",
              "4                       5            4.0    None          None       NaN   \n",
              "\n",
              "  product_id user_id helpfulness_numerator helpfulness_denominator Score  \\\n",
              "0        NaN     NaN                   NaN                     NaN   NaN   \n",
              "1        NaN     NaN                   NaN                     NaN   NaN   \n",
              "2        NaN     NaN                   NaN                     NaN   NaN   \n",
              "3        NaN     NaN                   NaN                     NaN   NaN   \n",
              "4        NaN     NaN                   NaN                     NaN   NaN   \n",
              "\n",
              "   time_id  \n",
              "0      NaN  \n",
              "1      NaN  \n",
              "2      NaN  \n",
              "3      NaN  \n",
              "4      NaN  "
            ]
          },
          "execution_count": 61,
          "metadata": {},
          "output_type": "execute_result"
        }
      ],
      "source": [
        "#check if bestsellers_reviews table has been updated with data from our denormalised tables\n",
        "bestsellers_reviews.head(5)"
      ]
    },
    {
      "cell_type": "markdown",
      "metadata": {
        "id": "FVSAFHaENQvC"
      },
      "source": [
        "#### 4.2 Data Quality Checks\n",
        "Explain the data quality checks you'll perform to ensure the pipeline ran as expected. These could include:\n",
        " * Integrity constraints on the relational database (e.g., unique key, data type, etc.)\n",
        " * Unit tests for the scripts to ensure they are doing the right thing\n",
        " * Source/Count checks to ensure completeness\n",
        " \n",
        "Run Quality Checks"
      ]
    },
    {
      "cell_type": "markdown",
      "metadata": {
        "id": "A_Z1WkHnydWh"
      },
      "source": [
        "Data quality check 1(a) and 1(b)"
      ]
    },
    {
      "cell_type": "code",
      "execution_count": 62,
      "metadata": {
        "id": "dakPtQTEJpt1"
      },
      "outputs": [],
      "source": [
        "# Check null values\n",
        "def no_records_dim_quality_check(dim_df, name):\n",
        "    '''\n",
        "    Description:\n",
        "      This function checks if any of our dimension tables are null before uploading them to the target data source\n",
        "    Argss:\n",
        "      - dim_df: our dataframe\n",
        "      - name: the name of the table going through the quailty check\n",
        "    Returns:\n",
        "      - Check if the table is empty or has values    \n",
        "    '''\n",
        "    result = dim_df.count()\n",
        "    if result == 0:\n",
        "        print(\"Data quality check failed for {} with zero records\".format(name))\n",
        "    else:\n",
        "        print(\"Data quality check passed for {} with {} records\".format(name, result))\n",
        "\n"
      ]
    },
    {
      "cell_type": "markdown",
      "metadata": {
        "id": "8B9aYEzT6QDT"
      },
      "source": [
        "check the dimensions tables"
      ]
    },
    {
      "cell_type": "code",
      "execution_count": 63,
      "metadata": {
        "colab": {
          "base_uri": "https://localhost:8080/"
        },
        "id": "FW8he6DT59vW",
        "outputId": "e99b1f09-759f-4289-896c-817e85fe5228"
      },
      "outputs": [
        {
          "name": "stdout",
          "output_type": "stream",
          "text": [
            "Data quality check passed for bestsellers table with 6758084 records\n"
          ]
        }
      ],
      "source": [
        "no_records_dim_quality_check(bestsellers, \"bestsellers table\")"
      ]
    },
    {
      "cell_type": "code",
      "execution_count": 64,
      "metadata": {
        "colab": {
          "base_uri": "https://localhost:8080/"
        },
        "id": "GS-yjZc4NRLG",
        "outputId": "7ab51ae7-edc7-47bb-db1c-19da3d454e58"
      },
      "outputs": [
        {
          "name": "stdout",
          "output_type": "stream",
          "text": [
            "Data quality check passed for reviews table with 568449 records\n"
          ]
        }
      ],
      "source": [
        "no_records_dim_quality_check(reviews, \"reviews table\")"
      ]
    },
    {
      "cell_type": "code",
      "execution_count": 65,
      "metadata": {
        "colab": {
          "base_uri": "https://localhost:8080/"
        },
        "id": "sOlGRV1z6YOE",
        "outputId": "6694887d-ce31-4a3b-d683-6f0678190daf"
      },
      "outputs": [
        {
          "name": "stdout",
          "output_type": "stream",
          "text": [
            "Data quality check passed for time table with 568441 records\n"
          ]
        }
      ],
      "source": [
        "no_records_dim_quality_check(time, \"time table\")"
      ]
    },
    {
      "cell_type": "code",
      "execution_count": 66,
      "metadata": {
        "id": "zBE77jSmZzr_"
      },
      "outputs": [],
      "source": [
        "# Check null values\n",
        "def no_records_fact_quality_check(fact_df, name):\n",
        "    '''\n",
        "    Description:\n",
        "      This function checks if any of our fact tables are null before uploading them to the target data source\n",
        "    Argss:\n",
        "      - fact_df: our dataframe\n",
        "      - name: the name of the table going through the quailty check\n",
        "    Returns:\n",
        "      - Check if the table is empty or has values    \n",
        "    '''\n",
        "    result = fact_df.shape[0]\n",
        "    if result == 0:\n",
        "        print(\"Data quality check failed for {} with zero records\".format(name))\n",
        "    else:\n",
        "        print(\"Data quality check passed for {} with {} records\".format(name, result))\n",
        "\n"
      ]
    },
    {
      "cell_type": "code",
      "execution_count": 67,
      "metadata": {
        "colab": {
          "base_uri": "https://localhost:8080/"
        },
        "id": "xZ7giAK_d8dS",
        "outputId": "483be931-a5dc-4225-e986-919bc624bc6b"
      },
      "outputs": [
        {
          "name": "stdout",
          "output_type": "stream",
          "text": [
            "Data quality check passed for bestsellers_reviews with 7894974 records\n"
          ]
        }
      ],
      "source": [
        "no_records_fact_quality_check(bestsellers_reviews, \"bestsellers_reviews\")"
      ]
    },
    {
      "cell_type": "markdown",
      "metadata": {
        "id": "ciVNSsko6cWO"
      },
      "source": [
        "check the fact table"
      ]
    },
    {
      "cell_type": "markdown",
      "metadata": {
        "id": "F7Tq1pgxybRk"
      },
      "source": [
        "\n",
        "\n",
        "Data Quality Check 2"
      ]
    },
    {
      "cell_type": "code",
      "execution_count": 68,
      "metadata": {
        "id": "lJhe3Z0Fy7K2"
      },
      "outputs": [],
      "source": [
        "#check if the time column has been parsed to a datetime column\n",
        "def check_datetime(original_time_col, new_time_col):\n",
        "  \"\"\"\n",
        "  Description:\n",
        "    this function checks of the time column has been parsed to a datetime datatype\n",
        "  Args:\n",
        "    - original_df: the original reviews time column \n",
        "    - new_df: the new parsed reviews time column\n",
        "  Returns:\n",
        "    - a dataframe that compares the old  reviews time column to the new reviews time column\n",
        "  \"\"\"\n",
        "  new_df = pd.concat([original_time_col, new_time_col])\n",
        "  #the data types of the old time column\n",
        "  print(f\"Old reviews time column datatypes: {original_time_col.nunique()}\")\n",
        "  #the data types of the new time column\n",
        "  print(f\"New reviews time column datatypes: {new_time_col.nunique()}\")\n",
        "  #return the comparsion of the old and new datetime column\n",
        "  return new_df.tail(10)"
      ]
    },
    {
      "cell_type": "code",
      "execution_count": 69,
      "metadata": {
        "id": "LjLFm68APN_E"
      },
      "outputs": [],
      "source": [
        "old_col = reviews_df.select(\"time\").toPandas()\n",
        "new_col = time.select(\"datetime\").toPandas()"
      ]
    },
    {
      "cell_type": "code",
      "execution_count": 70,
      "metadata": {
        "colab": {
          "base_uri": "https://localhost:8080/",
          "height": 432
        },
        "id": "OjIh1a-X4_6W",
        "outputId": "ba9842e3-6530-4bb5-ffa1-c9c3e61fb106"
      },
      "outputs": [
        {
          "name": "stdout",
          "output_type": "stream",
          "text": [
            "Old reviews time column datatypes: time    3204\n",
            "dtype: int64\n",
            "New reviews time column datatypes: datetime    3168\n",
            "dtype: int64\n"
          ]
        },
        {
          "data": {
            "text/html": [
              "\n",
              "  <div id=\"df-c3c93182-1409-407d-9478-1c76e2f73357\">\n",
              "    <div class=\"colab-df-container\">\n",
              "      <div>\n",
              "<style scoped>\n",
              "    .dataframe tbody tr th:only-of-type {\n",
              "        vertical-align: middle;\n",
              "    }\n",
              "\n",
              "    .dataframe tbody tr th {\n",
              "        vertical-align: top;\n",
              "    }\n",
              "\n",
              "    .dataframe thead th {\n",
              "        text-align: right;\n",
              "    }\n",
              "</style>\n",
              "<table border=\"1\" class=\"dataframe\">\n",
              "  <thead>\n",
              "    <tr style=\"text-align: right;\">\n",
              "      <th></th>\n",
              "      <th>time</th>\n",
              "      <th>datetime</th>\n",
              "    </tr>\n",
              "  </thead>\n",
              "  <tbody>\n",
              "    <tr>\n",
              "      <th>568431</th>\n",
              "      <td>NaN</td>\n",
              "      <td>2009-06-19</td>\n",
              "    </tr>\n",
              "    <tr>\n",
              "      <th>568432</th>\n",
              "      <td>NaN</td>\n",
              "      <td>2010-03-08</td>\n",
              "    </tr>\n",
              "    <tr>\n",
              "      <th>568433</th>\n",
              "      <td>NaN</td>\n",
              "      <td>2012-02-11</td>\n",
              "    </tr>\n",
              "    <tr>\n",
              "      <th>568434</th>\n",
              "      <td>NaN</td>\n",
              "      <td>2011-11-29</td>\n",
              "    </tr>\n",
              "    <tr>\n",
              "      <th>568435</th>\n",
              "      <td>NaN</td>\n",
              "      <td>2011-06-15</td>\n",
              "    </tr>\n",
              "    <tr>\n",
              "      <th>568436</th>\n",
              "      <td>NaN</td>\n",
              "      <td>2011-03-09</td>\n",
              "    </tr>\n",
              "    <tr>\n",
              "      <th>568437</th>\n",
              "      <td>NaN</td>\n",
              "      <td>2012-03-09</td>\n",
              "    </tr>\n",
              "    <tr>\n",
              "      <th>568438</th>\n",
              "      <td>NaN</td>\n",
              "      <td>2012-02-21</td>\n",
              "    </tr>\n",
              "    <tr>\n",
              "      <th>568439</th>\n",
              "      <td>NaN</td>\n",
              "      <td>2012-03-13</td>\n",
              "    </tr>\n",
              "    <tr>\n",
              "      <th>568440</th>\n",
              "      <td>NaN</td>\n",
              "      <td>2012-05-31</td>\n",
              "    </tr>\n",
              "  </tbody>\n",
              "</table>\n",
              "</div>\n",
              "      <button class=\"colab-df-convert\" onclick=\"convertToInteractive('df-c3c93182-1409-407d-9478-1c76e2f73357')\"\n",
              "              title=\"Convert this dataframe to an interactive table.\"\n",
              "              style=\"display:none;\">\n",
              "        \n",
              "  <svg xmlns=\"http://www.w3.org/2000/svg\" height=\"24px\"viewBox=\"0 0 24 24\"\n",
              "       width=\"24px\">\n",
              "    <path d=\"M0 0h24v24H0V0z\" fill=\"none\"/>\n",
              "    <path d=\"M18.56 5.44l.94 2.06.94-2.06 2.06-.94-2.06-.94-.94-2.06-.94 2.06-2.06.94zm-11 1L8.5 8.5l.94-2.06 2.06-.94-2.06-.94L8.5 2.5l-.94 2.06-2.06.94zm10 10l.94 2.06.94-2.06 2.06-.94-2.06-.94-.94-2.06-.94 2.06-2.06.94z\"/><path d=\"M17.41 7.96l-1.37-1.37c-.4-.4-.92-.59-1.43-.59-.52 0-1.04.2-1.43.59L10.3 9.45l-7.72 7.72c-.78.78-.78 2.05 0 2.83L4 21.41c.39.39.9.59 1.41.59.51 0 1.02-.2 1.41-.59l7.78-7.78 2.81-2.81c.8-.78.8-2.07 0-2.86zM5.41 20L4 18.59l7.72-7.72 1.47 1.35L5.41 20z\"/>\n",
              "  </svg>\n",
              "      </button>\n",
              "      \n",
              "  <style>\n",
              "    .colab-df-container {\n",
              "      display:flex;\n",
              "      flex-wrap:wrap;\n",
              "      gap: 12px;\n",
              "    }\n",
              "\n",
              "    .colab-df-convert {\n",
              "      background-color: #E8F0FE;\n",
              "      border: none;\n",
              "      border-radius: 50%;\n",
              "      cursor: pointer;\n",
              "      display: none;\n",
              "      fill: #1967D2;\n",
              "      height: 32px;\n",
              "      padding: 0 0 0 0;\n",
              "      width: 32px;\n",
              "    }\n",
              "\n",
              "    .colab-df-convert:hover {\n",
              "      background-color: #E2EBFA;\n",
              "      box-shadow: 0px 1px 2px rgba(60, 64, 67, 0.3), 0px 1px 3px 1px rgba(60, 64, 67, 0.15);\n",
              "      fill: #174EA6;\n",
              "    }\n",
              "\n",
              "    [theme=dark] .colab-df-convert {\n",
              "      background-color: #3B4455;\n",
              "      fill: #D2E3FC;\n",
              "    }\n",
              "\n",
              "    [theme=dark] .colab-df-convert:hover {\n",
              "      background-color: #434B5C;\n",
              "      box-shadow: 0px 1px 3px 1px rgba(0, 0, 0, 0.15);\n",
              "      filter: drop-shadow(0px 1px 2px rgba(0, 0, 0, 0.3));\n",
              "      fill: #FFFFFF;\n",
              "    }\n",
              "  </style>\n",
              "\n",
              "      <script>\n",
              "        const buttonEl =\n",
              "          document.querySelector('#df-c3c93182-1409-407d-9478-1c76e2f73357 button.colab-df-convert');\n",
              "        buttonEl.style.display =\n",
              "          google.colab.kernel.accessAllowed ? 'block' : 'none';\n",
              "\n",
              "        async function convertToInteractive(key) {\n",
              "          const element = document.querySelector('#df-c3c93182-1409-407d-9478-1c76e2f73357');\n",
              "          const dataTable =\n",
              "            await google.colab.kernel.invokeFunction('convertToInteractive',\n",
              "                                                     [key], {});\n",
              "          if (!dataTable) return;\n",
              "\n",
              "          const docLinkHtml = 'Like what you see? Visit the ' +\n",
              "            '<a target=\"_blank\" href=https://colab.research.google.com/notebooks/data_table.ipynb>data table notebook</a>'\n",
              "            + ' to learn more about interactive tables.';\n",
              "          element.innerHTML = '';\n",
              "          dataTable['output_type'] = 'display_data';\n",
              "          await google.colab.output.renderOutput(dataTable, element);\n",
              "          const docLink = document.createElement('div');\n",
              "          docLink.innerHTML = docLinkHtml;\n",
              "          element.appendChild(docLink);\n",
              "        }\n",
              "      </script>\n",
              "    </div>\n",
              "  </div>\n",
              "  "
            ],
            "text/plain": [
              "       time    datetime\n",
              "568431  NaN  2009-06-19\n",
              "568432  NaN  2010-03-08\n",
              "568433  NaN  2012-02-11\n",
              "568434  NaN  2011-11-29\n",
              "568435  NaN  2011-06-15\n",
              "568436  NaN  2011-03-09\n",
              "568437  NaN  2012-03-09\n",
              "568438  NaN  2012-02-21\n",
              "568439  NaN  2012-03-13\n",
              "568440  NaN  2012-05-31"
            ]
          },
          "execution_count": 70,
          "metadata": {},
          "output_type": "execute_result"
        }
      ],
      "source": [
        "check_datetime(old_col, new_col)"
      ]
    },
    {
      "cell_type": "markdown",
      "metadata": {
        "id": "OBVuj4-gDPI9"
      },
      "source": [
        "Data Quality Check 3(a) and 3(b)"
      ]
    },
    {
      "cell_type": "markdown",
      "metadata": {
        "id": "E_gDGHdC9IC6"
      },
      "source": [
        "\n",
        "\n",
        "* Check if our dimension tables are spark dataframes\n",
        "* Check if our fact table is a pandas dataframe"
      ]
    },
    {
      "cell_type": "code",
      "execution_count": 71,
      "metadata": {
        "id": "uKuBRwyU9o2Z"
      },
      "outputs": [],
      "source": [
        "from pyspark.sql import DataFrame"
      ]
    },
    {
      "cell_type": "code",
      "execution_count": 72,
      "metadata": {
        "id": "ASAuStYP9597"
      },
      "outputs": [],
      "source": [
        "def is_sparkDF(df):\n",
        "  \"\"\"\n",
        "  Description\n",
        "    - this function checks if our fact and dimension tables are spark dataframes\n",
        "    - this needs to be run before saving to the target data destination\n",
        "  Args:\n",
        "    - table: the target table\n",
        "  Returns:\n",
        "    - Confirmation of whether the target table is a spark dataframe or not\n",
        "  \"\"\"\n",
        "  confirm_df = isinstance(df, DataFrame)\n",
        "  if confirm_df == True:\n",
        "    print(\"The Table is a spark Dataframe\")\n",
        "  else:\n",
        "    print(\"The Table is not a spark Dataframe\")"
      ]
    },
    {
      "cell_type": "code",
      "execution_count": 73,
      "metadata": {
        "colab": {
          "base_uri": "https://localhost:8080/"
        },
        "id": "8imOuAZEBKCl",
        "outputId": "7e6f1a39-9b90-4b3e-f070-83dbf547959e"
      },
      "outputs": [
        {
          "name": "stdout",
          "output_type": "stream",
          "text": [
            "The Table is a spark Dataframe\n"
          ]
        }
      ],
      "source": [
        "is_sparkDF(bestsellers)"
      ]
    },
    {
      "cell_type": "code",
      "execution_count": 74,
      "metadata": {
        "colab": {
          "base_uri": "https://localhost:8080/"
        },
        "id": "Vm2Fe-Vl4C5W",
        "outputId": "479eb96e-9ea0-4f01-836b-2cd952f837b2"
      },
      "outputs": [
        {
          "name": "stdout",
          "output_type": "stream",
          "text": [
            "The Table is a spark Dataframe\n"
          ]
        }
      ],
      "source": [
        "is_sparkDF(reviews)"
      ]
    },
    {
      "cell_type": "code",
      "execution_count": 75,
      "metadata": {
        "colab": {
          "base_uri": "https://localhost:8080/"
        },
        "id": "Y9lx0-pCBNPh",
        "outputId": "74c81a23-8a56-4dfb-b2aa-6b6315c58b8b"
      },
      "outputs": [
        {
          "name": "stdout",
          "output_type": "stream",
          "text": [
            "The Table is a spark Dataframe\n"
          ]
        }
      ],
      "source": [
        "is_sparkDF(time)"
      ]
    },
    {
      "cell_type": "code",
      "execution_count": 76,
      "metadata": {
        "id": "-XyymeuseSq5"
      },
      "outputs": [],
      "source": [
        "def is_pandasDF(df):\n",
        "  \"\"\"\n",
        "  Description\n",
        "    - this function checks if our fact and dimension tables are  pandas D dataframes\n",
        "    - this needs to be run before saving it to the target destination\n",
        "  Args:\n",
        "    - table: the target table\n",
        "  Returns:\n",
        "    - Confirmation of whether the target table is a spark dataframe or not\n",
        "  \"\"\"\n",
        "  confirm_df = isinstance(df, pd.DataFrame)\n",
        "  if confirm_df == True:\n",
        "    print(\"The Table is a pandas Dataframe\")\n",
        "  else:\n",
        "    print(\"The Table is not a pandas Dataframe\")"
      ]
    },
    {
      "cell_type": "code",
      "execution_count": 77,
      "metadata": {
        "colab": {
          "base_uri": "https://localhost:8080/"
        },
        "id": "E5x1yVSkBQKQ",
        "outputId": "998b773a-ac76-4906-ea73-c518af789c6e"
      },
      "outputs": [
        {
          "name": "stdout",
          "output_type": "stream",
          "text": [
            "The Table is a pandas Dataframe\n"
          ]
        }
      ],
      "source": [
        "is_pandasDF(bestsellers_reviews)"
      ]
    },
    {
      "cell_type": "markdown",
      "metadata": {
        "id": "dbCIRODIs6at"
      },
      "source": [
        "### Performing analytical queries:\n",
        "#### Query 1\n",
        "What are the number of reviews for each category"
      ]
    },
    {
      "cell_type": "code",
      "execution_count": 78,
      "metadata": {
        "id": "FvNdHx2AnKng"
      },
      "outputs": [],
      "source": [
        "dim_cols = [\"bestseller_id\", \"category\"]\n",
        "fact_cols = [\"bestseller_id\", \"no_of_reviews\"]\n",
        "target_id = \"bestseller_id\"\n",
        "#initialize an empty dataframe\n",
        "query = pd.DataFrame()"
      ]
    },
    {
      "cell_type": "code",
      "execution_count": 79,
      "metadata": {
        "id": "y4aMakXkvFv5"
      },
      "outputs": [],
      "source": [
        "def merge_query_tables(dim_cols, fact_cols, dim_df, fact_df, target_id):\n",
        "  \"\"\"\n",
        "  Description\n",
        "    - this function merges the tables we want to use for queries\n",
        "  Args:\n",
        "    - dim_cols: the dimension columns of interest from our dimension table\n",
        "    - fact_cols: the dimension columns of interest from our fact table\n",
        "    - dim_df: dimension table as a pandas dataframe\n",
        "    - fact_df : our fact table as a pandas dataframe\n",
        "    - target_id: id on which the join is performed\n",
        "  Returns:\n",
        "    - the datatypes of the target query's columns\n",
        "  \"\"\"\n",
        "  #select columns of interest for querying\n",
        "  dim_query = dim_df.select(dim_cols)\n",
        "  #convert to pandas\n",
        "  dim_query = dim_query.toPandas()\n",
        "  #drop duplicates in the fact table\n",
        "  fact_query = fact_df.drop_duplicates()\n",
        "  #perform merge to achieve our query\n",
        "  query= pd.merge(dim_query[dim_cols], fact_query[fact_cols], on=target_id, how='inner')\n",
        "  #update the query dataframe\n",
        "  globals()[\"query\"] = query\n",
        "  #return data types\n",
        "\n",
        "  return query.dtypes"
      ]
    },
    {
      "cell_type": "code",
      "execution_count": 80,
      "metadata": {
        "colab": {
          "base_uri": "https://localhost:8080/"
        },
        "id": "stdZNeZpzzwP",
        "outputId": "4a404f5d-341a-4857-bea6-cdc179cb0e07"
      },
      "outputs": [
        {
          "data": {
            "text/plain": [
              "bestseller_id     int64\n",
              "category         object\n",
              "no_of_reviews    object\n",
              "dtype: object"
            ]
          },
          "execution_count": 80,
          "metadata": {},
          "output_type": "execute_result"
        }
      ],
      "source": [
        "merge_query_tables(dim_cols, fact_cols, bestsellers, bestsellers_reviews, target_id)"
      ]
    },
    {
      "cell_type": "code",
      "execution_count": 81,
      "metadata": {
        "id": "1rxWFpdBrgXP"
      },
      "outputs": [],
      "source": [
        "#get target table columns\n",
        "target_cols = [\"category\", \"no_of_reviews\"]\n",
        "reviews_by_category = query[target_cols]"
      ]
    },
    {
      "cell_type": "markdown",
      "metadata": {
        "id": "aIE2JyISnWSM"
      },
      "source": [
        "#### Target query:\n",
        "Number of reviews for each category"
      ]
    },
    {
      "cell_type": "code",
      "execution_count": 82,
      "metadata": {
        "colab": {
          "base_uri": "https://localhost:8080/",
          "height": 206
        },
        "id": "FhBQyWRUi2LI",
        "outputId": "6efd02c1-b5fd-4f08-ba33-dcaf1d81b294"
      },
      "outputs": [
        {
          "data": {
            "text/html": [
              "\n",
              "  <div id=\"df-56c4fba9-c4da-4b59-96aa-6322487ca56f\">\n",
              "    <div class=\"colab-df-container\">\n",
              "      <div>\n",
              "<style scoped>\n",
              "    .dataframe tbody tr th:only-of-type {\n",
              "        vertical-align: middle;\n",
              "    }\n",
              "\n",
              "    .dataframe tbody tr th {\n",
              "        vertical-align: top;\n",
              "    }\n",
              "\n",
              "    .dataframe thead th {\n",
              "        text-align: right;\n",
              "    }\n",
              "</style>\n",
              "<table border=\"1\" class=\"dataframe\">\n",
              "  <thead>\n",
              "    <tr style=\"text-align: right;\">\n",
              "      <th></th>\n",
              "      <th>category</th>\n",
              "      <th>no_of_reviews</th>\n",
              "    </tr>\n",
              "  </thead>\n",
              "  <tbody>\n",
              "    <tr>\n",
              "      <th>0</th>\n",
              "      <td>Any Department/Home &amp; Kitchen/ Irons &amp; Steamers</td>\n",
              "      <td>None</td>\n",
              "    </tr>\n",
              "    <tr>\n",
              "      <th>1</th>\n",
              "      <td>Handheld Garment Steamer Clothing</td>\n",
              "      <td>None</td>\n",
              "    </tr>\n",
              "    <tr>\n",
              "      <th>2</th>\n",
              "      <td>$24.99</td>\n",
              "      <td>None</td>\n",
              "    </tr>\n",
              "    <tr>\n",
              "      <th>3</th>\n",
              "      <td>Any Department/Home &amp; Kitchen/ Irons &amp; Steamers</td>\n",
              "      <td>None</td>\n",
              "    </tr>\n",
              "    <tr>\n",
              "      <th>4</th>\n",
              "      <td>True Position Axial Aligned Steam Holes</td>\n",
              "      <td>None</td>\n",
              "    </tr>\n",
              "  </tbody>\n",
              "</table>\n",
              "</div>\n",
              "      <button class=\"colab-df-convert\" onclick=\"convertToInteractive('df-56c4fba9-c4da-4b59-96aa-6322487ca56f')\"\n",
              "              title=\"Convert this dataframe to an interactive table.\"\n",
              "              style=\"display:none;\">\n",
              "        \n",
              "  <svg xmlns=\"http://www.w3.org/2000/svg\" height=\"24px\"viewBox=\"0 0 24 24\"\n",
              "       width=\"24px\">\n",
              "    <path d=\"M0 0h24v24H0V0z\" fill=\"none\"/>\n",
              "    <path d=\"M18.56 5.44l.94 2.06.94-2.06 2.06-.94-2.06-.94-.94-2.06-.94 2.06-2.06.94zm-11 1L8.5 8.5l.94-2.06 2.06-.94-2.06-.94L8.5 2.5l-.94 2.06-2.06.94zm10 10l.94 2.06.94-2.06 2.06-.94-2.06-.94-.94-2.06-.94 2.06-2.06.94z\"/><path d=\"M17.41 7.96l-1.37-1.37c-.4-.4-.92-.59-1.43-.59-.52 0-1.04.2-1.43.59L10.3 9.45l-7.72 7.72c-.78.78-.78 2.05 0 2.83L4 21.41c.39.39.9.59 1.41.59.51 0 1.02-.2 1.41-.59l7.78-7.78 2.81-2.81c.8-.78.8-2.07 0-2.86zM5.41 20L4 18.59l7.72-7.72 1.47 1.35L5.41 20z\"/>\n",
              "  </svg>\n",
              "      </button>\n",
              "      \n",
              "  <style>\n",
              "    .colab-df-container {\n",
              "      display:flex;\n",
              "      flex-wrap:wrap;\n",
              "      gap: 12px;\n",
              "    }\n",
              "\n",
              "    .colab-df-convert {\n",
              "      background-color: #E8F0FE;\n",
              "      border: none;\n",
              "      border-radius: 50%;\n",
              "      cursor: pointer;\n",
              "      display: none;\n",
              "      fill: #1967D2;\n",
              "      height: 32px;\n",
              "      padding: 0 0 0 0;\n",
              "      width: 32px;\n",
              "    }\n",
              "\n",
              "    .colab-df-convert:hover {\n",
              "      background-color: #E2EBFA;\n",
              "      box-shadow: 0px 1px 2px rgba(60, 64, 67, 0.3), 0px 1px 3px 1px rgba(60, 64, 67, 0.15);\n",
              "      fill: #174EA6;\n",
              "    }\n",
              "\n",
              "    [theme=dark] .colab-df-convert {\n",
              "      background-color: #3B4455;\n",
              "      fill: #D2E3FC;\n",
              "    }\n",
              "\n",
              "    [theme=dark] .colab-df-convert:hover {\n",
              "      background-color: #434B5C;\n",
              "      box-shadow: 0px 1px 3px 1px rgba(0, 0, 0, 0.15);\n",
              "      filter: drop-shadow(0px 1px 2px rgba(0, 0, 0, 0.3));\n",
              "      fill: #FFFFFF;\n",
              "    }\n",
              "  </style>\n",
              "\n",
              "      <script>\n",
              "        const buttonEl =\n",
              "          document.querySelector('#df-56c4fba9-c4da-4b59-96aa-6322487ca56f button.colab-df-convert');\n",
              "        buttonEl.style.display =\n",
              "          google.colab.kernel.accessAllowed ? 'block' : 'none';\n",
              "\n",
              "        async function convertToInteractive(key) {\n",
              "          const element = document.querySelector('#df-56c4fba9-c4da-4b59-96aa-6322487ca56f');\n",
              "          const dataTable =\n",
              "            await google.colab.kernel.invokeFunction('convertToInteractive',\n",
              "                                                     [key], {});\n",
              "          if (!dataTable) return;\n",
              "\n",
              "          const docLinkHtml = 'Like what you see? Visit the ' +\n",
              "            '<a target=\"_blank\" href=https://colab.research.google.com/notebooks/data_table.ipynb>data table notebook</a>'\n",
              "            + ' to learn more about interactive tables.';\n",
              "          element.innerHTML = '';\n",
              "          dataTable['output_type'] = 'display_data';\n",
              "          await google.colab.output.renderOutput(dataTable, element);\n",
              "          const docLink = document.createElement('div');\n",
              "          docLink.innerHTML = docLinkHtml;\n",
              "          element.appendChild(docLink);\n",
              "        }\n",
              "      </script>\n",
              "    </div>\n",
              "  </div>\n",
              "  "
            ],
            "text/plain": [
              "                                          category no_of_reviews\n",
              "0  Any Department/Home & Kitchen/ Irons & Steamers          None\n",
              "1                Handheld Garment Steamer Clothing          None\n",
              "2                                           $24.99          None\n",
              "3  Any Department/Home & Kitchen/ Irons & Steamers          None\n",
              "4          True Position Axial Aligned Steam Holes          None"
            ]
          },
          "execution_count": 82,
          "metadata": {},
          "output_type": "execute_result"
        }
      ],
      "source": [
        "reviews_by_category.head(5)"
      ]
    },
    {
      "cell_type": "markdown",
      "metadata": {
        "id": "YmR7RgsWo-Su"
      },
      "source": [
        "#### Query 2\n",
        "What where the review_scores of our bestsellers?"
      ]
    },
    {
      "cell_type": "code",
      "execution_count": 83,
      "metadata": {
        "id": "2tqelgKztAW0"
      },
      "outputs": [],
      "source": [
        "dim_cols = [\"bestseller_id\", \"title\"]\n",
        "fact_cols = [\"bestseller_id\", \"Score\"]\n",
        "target_id = \"bestseller_id\"\n",
        "#initialize an empty dataframe\n",
        "query = pd.DataFrame()"
      ]
    },
    {
      "cell_type": "code",
      "execution_count": 84,
      "metadata": {
        "colab": {
          "base_uri": "https://localhost:8080/"
        },
        "id": "6BBtgg8nxfz9",
        "outputId": "e11257bd-8adc-4d3f-831a-9de1f4d534fd"
      },
      "outputs": [
        {
          "data": {
            "text/plain": [
              "bestseller_id     int64\n",
              "title            object\n",
              "Score            object\n",
              "dtype: object"
            ]
          },
          "execution_count": 84,
          "metadata": {},
          "output_type": "execute_result"
        }
      ],
      "source": [
        "merge_query_tables(dim_cols, fact_cols, bestsellers, bestsellers_reviews, target_id)"
      ]
    },
    {
      "cell_type": "code",
      "execution_count": 85,
      "metadata": {
        "id": "EZB0U9tuuqeB"
      },
      "outputs": [],
      "source": [
        "#get target table columns\n",
        "target_cols = [\"title\", \"Score\"]\n",
        "bestseller_review_score = query[target_cols]"
      ]
    },
    {
      "cell_type": "markdown",
      "metadata": {
        "id": "8wpuMgoowGsG"
      },
      "source": [
        "#### Target query:\n",
        "bestsellers's review scores"
      ]
    },
    {
      "cell_type": "code",
      "execution_count": 98,
      "metadata": {
        "colab": {
          "base_uri": "https://localhost:8080/",
          "height": 206
        },
        "id": "TZDqE0V-wGHI",
        "outputId": "bdb81160-cffe-4dc0-9c5d-0094d73b49e8"
      },
      "outputs": [
        {
          "data": {
            "text/html": [
              "\n",
              "  <div id=\"df-3538b867-3901-4883-8652-cb57af1c9bcc\">\n",
              "    <div class=\"colab-df-container\">\n",
              "      <div>\n",
              "<style scoped>\n",
              "    .dataframe tbody tr th:only-of-type {\n",
              "        vertical-align: middle;\n",
              "    }\n",
              "\n",
              "    .dataframe tbody tr th {\n",
              "        vertical-align: top;\n",
              "    }\n",
              "\n",
              "    .dataframe thead th {\n",
              "        text-align: right;\n",
              "    }\n",
              "</style>\n",
              "<table border=\"1\" class=\"dataframe\">\n",
              "  <thead>\n",
              "    <tr style=\"text-align: right;\">\n",
              "      <th></th>\n",
              "      <th>title</th>\n",
              "      <th>Score</th>\n",
              "    </tr>\n",
              "  </thead>\n",
              "  <tbody>\n",
              "    <tr>\n",
              "      <th>0</th>\n",
              "      <td>\"</td>\n",
              "      <td>NaN</td>\n",
              "    </tr>\n",
              "    <tr>\n",
              "      <th>1</th>\n",
              "      <td>None</td>\n",
              "      <td>NaN</td>\n",
              "    </tr>\n",
              "    <tr>\n",
              "      <th>2</th>\n",
              "      <td>4.4 out of 5 stars</td>\n",
              "      <td>NaN</td>\n",
              "    </tr>\n",
              "    <tr>\n",
              "      <th>3</th>\n",
              "      <td>\"</td>\n",
              "      <td>NaN</td>\n",
              "    </tr>\n",
              "    <tr>\n",
              "      <th>4</th>\n",
              "      <td>None</td>\n",
              "      <td>NaN</td>\n",
              "    </tr>\n",
              "  </tbody>\n",
              "</table>\n",
              "</div>\n",
              "      <button class=\"colab-df-convert\" onclick=\"convertToInteractive('df-3538b867-3901-4883-8652-cb57af1c9bcc')\"\n",
              "              title=\"Convert this dataframe to an interactive table.\"\n",
              "              style=\"display:none;\">\n",
              "        \n",
              "  <svg xmlns=\"http://www.w3.org/2000/svg\" height=\"24px\"viewBox=\"0 0 24 24\"\n",
              "       width=\"24px\">\n",
              "    <path d=\"M0 0h24v24H0V0z\" fill=\"none\"/>\n",
              "    <path d=\"M18.56 5.44l.94 2.06.94-2.06 2.06-.94-2.06-.94-.94-2.06-.94 2.06-2.06.94zm-11 1L8.5 8.5l.94-2.06 2.06-.94-2.06-.94L8.5 2.5l-.94 2.06-2.06.94zm10 10l.94 2.06.94-2.06 2.06-.94-2.06-.94-.94-2.06-.94 2.06-2.06.94z\"/><path d=\"M17.41 7.96l-1.37-1.37c-.4-.4-.92-.59-1.43-.59-.52 0-1.04.2-1.43.59L10.3 9.45l-7.72 7.72c-.78.78-.78 2.05 0 2.83L4 21.41c.39.39.9.59 1.41.59.51 0 1.02-.2 1.41-.59l7.78-7.78 2.81-2.81c.8-.78.8-2.07 0-2.86zM5.41 20L4 18.59l7.72-7.72 1.47 1.35L5.41 20z\"/>\n",
              "  </svg>\n",
              "      </button>\n",
              "      \n",
              "  <style>\n",
              "    .colab-df-container {\n",
              "      display:flex;\n",
              "      flex-wrap:wrap;\n",
              "      gap: 12px;\n",
              "    }\n",
              "\n",
              "    .colab-df-convert {\n",
              "      background-color: #E8F0FE;\n",
              "      border: none;\n",
              "      border-radius: 50%;\n",
              "      cursor: pointer;\n",
              "      display: none;\n",
              "      fill: #1967D2;\n",
              "      height: 32px;\n",
              "      padding: 0 0 0 0;\n",
              "      width: 32px;\n",
              "    }\n",
              "\n",
              "    .colab-df-convert:hover {\n",
              "      background-color: #E2EBFA;\n",
              "      box-shadow: 0px 1px 2px rgba(60, 64, 67, 0.3), 0px 1px 3px 1px rgba(60, 64, 67, 0.15);\n",
              "      fill: #174EA6;\n",
              "    }\n",
              "\n",
              "    [theme=dark] .colab-df-convert {\n",
              "      background-color: #3B4455;\n",
              "      fill: #D2E3FC;\n",
              "    }\n",
              "\n",
              "    [theme=dark] .colab-df-convert:hover {\n",
              "      background-color: #434B5C;\n",
              "      box-shadow: 0px 1px 3px 1px rgba(0, 0, 0, 0.15);\n",
              "      filter: drop-shadow(0px 1px 2px rgba(0, 0, 0, 0.3));\n",
              "      fill: #FFFFFF;\n",
              "    }\n",
              "  </style>\n",
              "\n",
              "      <script>\n",
              "        const buttonEl =\n",
              "          document.querySelector('#df-3538b867-3901-4883-8652-cb57af1c9bcc button.colab-df-convert');\n",
              "        buttonEl.style.display =\n",
              "          google.colab.kernel.accessAllowed ? 'block' : 'none';\n",
              "\n",
              "        async function convertToInteractive(key) {\n",
              "          const element = document.querySelector('#df-3538b867-3901-4883-8652-cb57af1c9bcc');\n",
              "          const dataTable =\n",
              "            await google.colab.kernel.invokeFunction('convertToInteractive',\n",
              "                                                     [key], {});\n",
              "          if (!dataTable) return;\n",
              "\n",
              "          const docLinkHtml = 'Like what you see? Visit the ' +\n",
              "            '<a target=\"_blank\" href=https://colab.research.google.com/notebooks/data_table.ipynb>data table notebook</a>'\n",
              "            + ' to learn more about interactive tables.';\n",
              "          element.innerHTML = '';\n",
              "          dataTable['output_type'] = 'display_data';\n",
              "          await google.colab.output.renderOutput(dataTable, element);\n",
              "          const docLink = document.createElement('div');\n",
              "          docLink.innerHTML = docLinkHtml;\n",
              "          element.appendChild(docLink);\n",
              "        }\n",
              "      </script>\n",
              "    </div>\n",
              "  </div>\n",
              "  "
            ],
            "text/plain": [
              "                title Score\n",
              "0                   \"   NaN\n",
              "1                None   NaN\n",
              "2  4.4 out of 5 stars   NaN\n",
              "3                   \"   NaN\n",
              "4                None   NaN"
            ]
          },
          "execution_count": 98,
          "metadata": {},
          "output_type": "execute_result"
        }
      ],
      "source": [
        "bestseller_review_score.head(5)"
      ]
    },
    {
      "cell_type": "markdown",
      "metadata": {
        "id": "i0wJWnJ93fHa"
      },
      "source": [
        "### Saving to google drive\n",
        "* first we will convert our fact and dimension tables to  parquet\n",
        "* then save to google drivee"
      ]
    },
    {
      "cell_type": "code",
      "execution_count": 95,
      "metadata": {
        "id": "8AIvm174VIPZ"
      },
      "outputs": [],
      "source": [
        "#no longer using AWS  S3 because of the costs of transferring\n",
        "#convert dimension tables to parquet\n",
        "time.write.parquet(\"time.parquet\")\n",
        "reviews.write.parquet(\"reviews.parquet\")\n",
        "bestsellers.write.parquet(\"bestsellers.parquet\")"
      ]
    },
    {
      "cell_type": "code",
      "execution_count": 107,
      "metadata": {
        "id": "gRxVOBN7_xX1"
      },
      "outputs": [],
      "source": [
        "from distutils.dir_util import copy_tree"
      ]
    },
    {
      "cell_type": "code",
      "execution_count": 111,
      "metadata": {
        "colab": {
          "base_uri": "https://localhost:8080/"
        },
        "id": "kwuxRoHTAkmn",
        "outputId": "50b562f2-05d0-4658-bb09-c23b569eff35"
      },
      "outputs": [
        {
          "data": {
            "text/plain": [
              "['/content/drive/MyDrive/udacity_capstone/time_parquet/.part-00001-62ad6d07-bf45-41da-aa72-7d7c0873dff2-c000.snappy.parquet.crc',\n",
              " '/content/drive/MyDrive/udacity_capstone/time_parquet/._SUCCESS.crc',\n",
              " '/content/drive/MyDrive/udacity_capstone/time_parquet/part-00001-62ad6d07-bf45-41da-aa72-7d7c0873dff2-c000.snappy.parquet',\n",
              " '/content/drive/MyDrive/udacity_capstone/time_parquet/_SUCCESS',\n",
              " '/content/drive/MyDrive/udacity_capstone/time_parquet/part-00000-62ad6d07-bf45-41da-aa72-7d7c0873dff2-c000.snappy.parquet',\n",
              " '/content/drive/MyDrive/udacity_capstone/time_parquet/.part-00000-62ad6d07-bf45-41da-aa72-7d7c0873dff2-c000.snappy.parquet.crc']"
            ]
          },
          "execution_count": 111,
          "metadata": {},
          "output_type": "execute_result"
        }
      ],
      "source": [
        "#save dim parquet to google drive\n",
        "time_path = \"/content/time.parquet\"\n",
        "google_drive_path = \"/content/drive/MyDrive/udacity_capstone/time_parquet\"\n",
        "copy_tree(time_path,google_drive_path)"
      ]
    },
    {
      "cell_type": "code",
      "execution_count": 112,
      "metadata": {
        "colab": {
          "base_uri": "https://localhost:8080/"
        },
        "id": "fzODVuIjAkzm",
        "outputId": "f9702e9d-2f07-4eb8-c775-ca7e63e4c913"
      },
      "outputs": [
        {
          "data": {
            "text/plain": [
              "['/content/drive/MyDrive/udacity_capstone/reviews_parquet/.part-00001-c5647fa6-5257-40e8-be1e-8f271eb74b92-c000.snappy.parquet.crc',\n",
              " '/content/drive/MyDrive/udacity_capstone/reviews_parquet/part-00001-c5647fa6-5257-40e8-be1e-8f271eb74b92-c000.snappy.parquet',\n",
              " '/content/drive/MyDrive/udacity_capstone/reviews_parquet/.part-00000-c5647fa6-5257-40e8-be1e-8f271eb74b92-c000.snappy.parquet.crc',\n",
              " '/content/drive/MyDrive/udacity_capstone/reviews_parquet/._SUCCESS.crc',\n",
              " '/content/drive/MyDrive/udacity_capstone/reviews_parquet/_SUCCESS',\n",
              " '/content/drive/MyDrive/udacity_capstone/reviews_parquet/.part-00002-c5647fa6-5257-40e8-be1e-8f271eb74b92-c000.snappy.parquet.crc',\n",
              " '/content/drive/MyDrive/udacity_capstone/reviews_parquet/part-00002-c5647fa6-5257-40e8-be1e-8f271eb74b92-c000.snappy.parquet',\n",
              " '/content/drive/MyDrive/udacity_capstone/reviews_parquet/part-00000-c5647fa6-5257-40e8-be1e-8f271eb74b92-c000.snappy.parquet']"
            ]
          },
          "execution_count": 112,
          "metadata": {},
          "output_type": "execute_result"
        }
      ],
      "source": [
        "#save dim parquet to google drive\n",
        "reviews_path = \"/content/reviews.parquet\"\n",
        "google_drive_path = \"/content/drive/MyDrive/udacity_capstone/reviews_parquet\"\n",
        "copy_tree(reviews_path,google_drive_path)"
      ]
    },
    {
      "cell_type": "code",
      "execution_count": 113,
      "metadata": {
        "colab": {
          "base_uri": "https://localhost:8080/"
        },
        "id": "CpgW-RA095KT",
        "outputId": "3d197046-dba4-49b4-b78d-9ff50ffdb0f7"
      },
      "outputs": [
        {
          "data": {
            "text/plain": [
              "['/content/drive/MyDrive/udacity_capstone/bestsellers_parquet/part-00003-56b9cffd-9784-4bdf-8f0b-2e940e454cc8-c000.snappy.parquet',\n",
              " '/content/drive/MyDrive/udacity_capstone/bestsellers_parquet/.part-00007-56b9cffd-9784-4bdf-8f0b-2e940e454cc8-c000.snappy.parquet.crc',\n",
              " '/content/drive/MyDrive/udacity_capstone/bestsellers_parquet/.part-00006-56b9cffd-9784-4bdf-8f0b-2e940e454cc8-c000.snappy.parquet.crc',\n",
              " '/content/drive/MyDrive/udacity_capstone/bestsellers_parquet/part-00004-56b9cffd-9784-4bdf-8f0b-2e940e454cc8-c000.snappy.parquet',\n",
              " '/content/drive/MyDrive/udacity_capstone/bestsellers_parquet/part-00000-56b9cffd-9784-4bdf-8f0b-2e940e454cc8-c000.snappy.parquet',\n",
              " '/content/drive/MyDrive/udacity_capstone/bestsellers_parquet/.part-00003-56b9cffd-9784-4bdf-8f0b-2e940e454cc8-c000.snappy.parquet.crc',\n",
              " '/content/drive/MyDrive/udacity_capstone/bestsellers_parquet/._SUCCESS.crc',\n",
              " '/content/drive/MyDrive/udacity_capstone/bestsellers_parquet/.part-00002-56b9cffd-9784-4bdf-8f0b-2e940e454cc8-c000.snappy.parquet.crc',\n",
              " '/content/drive/MyDrive/udacity_capstone/bestsellers_parquet/_SUCCESS',\n",
              " '/content/drive/MyDrive/udacity_capstone/bestsellers_parquet/.part-00005-56b9cffd-9784-4bdf-8f0b-2e940e454cc8-c000.snappy.parquet.crc',\n",
              " '/content/drive/MyDrive/udacity_capstone/bestsellers_parquet/.part-00004-56b9cffd-9784-4bdf-8f0b-2e940e454cc8-c000.snappy.parquet.crc',\n",
              " '/content/drive/MyDrive/udacity_capstone/bestsellers_parquet/.part-00001-56b9cffd-9784-4bdf-8f0b-2e940e454cc8-c000.snappy.parquet.crc',\n",
              " '/content/drive/MyDrive/udacity_capstone/bestsellers_parquet/part-00005-56b9cffd-9784-4bdf-8f0b-2e940e454cc8-c000.snappy.parquet',\n",
              " '/content/drive/MyDrive/udacity_capstone/bestsellers_parquet/part-00002-56b9cffd-9784-4bdf-8f0b-2e940e454cc8-c000.snappy.parquet',\n",
              " '/content/drive/MyDrive/udacity_capstone/bestsellers_parquet/.part-00000-56b9cffd-9784-4bdf-8f0b-2e940e454cc8-c000.snappy.parquet.crc',\n",
              " '/content/drive/MyDrive/udacity_capstone/bestsellers_parquet/part-00001-56b9cffd-9784-4bdf-8f0b-2e940e454cc8-c000.snappy.parquet',\n",
              " '/content/drive/MyDrive/udacity_capstone/bestsellers_parquet/part-00006-56b9cffd-9784-4bdf-8f0b-2e940e454cc8-c000.snappy.parquet',\n",
              " '/content/drive/MyDrive/udacity_capstone/bestsellers_parquet/part-00007-56b9cffd-9784-4bdf-8f0b-2e940e454cc8-c000.snappy.parquet']"
            ]
          },
          "execution_count": 113,
          "metadata": {},
          "output_type": "execute_result"
        }
      ],
      "source": [
        "#save fact parquet to google drive\n",
        "bestsellers_path = \"/content/bestsellers.parquet\"\n",
        "google_drive_path = \"/content/drive/MyDrive/udacity_capstone/bestsellers_parquet\"\n",
        "copy_tree(bestsellers_path,google_drive_path)"
      ]
    },
    {
      "cell_type": "code",
      "execution_count": 99,
      "metadata": {
        "id": "Zeek6uq66-kz"
      },
      "outputs": [],
      "source": [
        "#convert fact table to parquet\n",
        "bestsellers_reviews.to_parquet('bestsellers_reviews.parquet.gzip',\n",
        "              compression='gzip') "
      ]
    },
    {
      "cell_type": "code",
      "execution_count": 102,
      "metadata": {
        "colab": {
          "base_uri": "https://localhost:8080/",
          "height": 35
        },
        "id": "15tHskIB7c8t",
        "outputId": "69b670c3-940e-4493-d0ee-fb0cfc6c105f"
      },
      "outputs": [
        {
          "data": {
            "application/vnd.google.colaboratory.intrinsic+json": {
              "type": "string"
            },
            "text/plain": [
              "'/content/drive/MyDrive/udacity_capstone/bestsellers_reviews.parquet.gzip'"
            ]
          },
          "execution_count": 102,
          "metadata": {},
          "output_type": "execute_result"
        }
      ],
      "source": [
        "#save fact parquet to google drive\n",
        "import shutil\n",
        "bestsellers_reviews_path = \"/content/bestsellers_reviews.parquet.gzip\"\n",
        "google_drive_path = \"/content/drive/MyDrive/udacity_capstone\"\n",
        "shutil.copy(bestsellers_reviews_path,google_drive_path)"
      ]
    },
    {
      "cell_type": "markdown",
      "metadata": {
        "id": "__WJ_OBfLnpE"
      },
      "source": [
        "### 4.3 Data dictionary\n",
        "Create a data dictionary for your data model. For each field, provide a brief description of what the data is and where it came from. You can include the data dictionary in the notebook or in a separate file."
      ]
    },
    {
      "cell_type": "markdown",
      "metadata": {
        "id": "TlnPyzUMNjHT"
      },
      "source": [
        "## Dimension Tables\n",
        "### bestseller\n",
        "* bestseller_id, the primary key of the table\n",
        "* bestseller_description - a description of each bestseller's product\n",
        "* category - the category the bestseller's product belongs to\n",
        "* links - links to the product(s)\n",
        "* title - title of the product(s) sold\n",
        "* image_url- link to the image(s) of the product being sold\n",
        "* rating - the ranking given to a product being sold (0 to 5)\n",
        "\n",
        "### reviews\n",
        "* review_id - the primary key of the table\n",
        "* profile_name - the profile name of the reviewer\n",
        "*  - a short description of the review given\n",
        "* text - the full review\n",
        "\n",
        "### time\n",
        "* time_id - the primary key of the table\n",
        "* datetime - the full date of when each review was given\n",
        "* day -the day of a review\n",
        "* month - the month of a review\n",
        "* year - the year of a review\n",
        "\n",
        "## Fact table\n",
        "### bestseller_reviews\n",
        "* bestseller_review_id - the primary key of the table\n",
        "* bestseller_id -the id referencing each bestseller\n",
        "* price - the price of the bestseller's product(s)\n",
        "* no_of_reviews - the number of reviews each bestseller got\n",
        "* review_id - the id referencing each review\n",
        "* product_id - the product id of each product that got a review\n",
        "* user_id - the id of the user who reviewed a specific product\n",
        "* helpfulness_numerator - the numerator for the helpfulness of a review\n",
        "* helpfulness_denominator - the denominator for the helpfulness of a review\n",
        "* score - the score of each review (0 to 5)\n",
        "* time_id - the id rerefencing the time each review occured\n"
      ]
    },
    {
      "cell_type": "markdown",
      "metadata": {
        "id": "KJfdYX3zNT1z"
      },
      "source": [
        "#### Step 5: Complete Project Write Up\n",
        "* Clearly state the rationale for the choice of tools and technologies for the project.\n",
        "* Propose how often the data should be updated and why.\n",
        "* Write a description of how you would approach the problem differently under the following scenarios:\n",
        " * The data was increased by 100x.\n",
        " * The data populates a dashboard that must be updated on a daily basis by 7am every day.\n",
        " * The database needed to be accessed by 100+ people."
      ]
    },
    {
      "cell_type": "markdown",
      "metadata": {
        "id": "CJHxUONfLpKM"
      },
      "source": []
    },
    {
      "cell_type": "markdown",
      "metadata": {
        "id": "bYgkiYqDVjjk"
      },
      "source": [
        "###Data Engineering Stack Chosen\n",
        "* AWS S3\n",
        "* Pyspark\n",
        "* Parquet\n",
        "* Google colab"
      ]
    },
    {
      "cell_type": "markdown",
      "metadata": {
        "id": "xmnTsJLjV8S0"
      },
      "source": [
        "### Rationale\n",
        "* The data was sourced from kaggle (it is peer reviewed data and meets Udacity's data requirements)\n",
        "* In a real world setting it would have retrieved via an API call from one of Amazon's APIs\n",
        "* Pyspark was selected because of its ability to handle data wrangling with big data and the easy with which queries and visualisations can be performed with python\n",
        "*Parquet: it maintains the column values, compresses the data to optimize for size, and is compatible with hadoop's processing frameworks. [source](https://www.upsolver.com/blog/apache-parquet-why-use)\n",
        "* Google colab was selected because has less RAM constraints and has autosaving integrated in the terminal. The latter makes it easier to continue working on the notebook despite internet connection challenges"
      ]
    },
    {
      "cell_type": "markdown",
      "metadata": {
        "id": "P-8N1Mc4qWSn"
      },
      "source": [
        "#### Propose how often the data should be updated and why.\n",
        "* To account for the potential influx of reviews which occur in batches, but not real time:\n",
        "* The data should be updated daily to ensure the data remains fresh\n"
      ]
    },
    {
      "cell_type": "markdown",
      "metadata": {
        "id": "eQQeIcD9YoEZ"
      },
      "source": [
        "### Scenarios"
      ]
    },
    {
      "cell_type": "markdown",
      "metadata": {
        "id": "rS4jVPzeYyZa"
      },
      "source": [
        "#### The data was increased by 100x\n",
        "* Use more nodes to run the spark session\n",
        "* ideally, create a spark cluster with more worker nodes\n",
        "* Add \"S3 staging_tables to AWS EMR cluster\" step to the ETL pipeline\n"
      ]
    },
    {
      "cell_type": "markdown",
      "metadata": {
        "id": "SNI1kNELbO9u"
      },
      "source": [
        "#### If the pipelines were run on a daily basis by 7am.\n",
        "\n",
        "* leverage airflow to automate and visualise this ETL process\n",
        "* Set a scheduler at night with a time trigger to run the ETL pipeline (this assumes that in that region and time, less traffic is on the amazon and batching processing requires less compute resources).\n",
        "* Set batch processing deadlines based on any third party SLA (Service Level Agreement) requirements"
      ]
    },
    {
      "cell_type": "markdown",
      "metadata": {
        "id": "Hq2cGPqocL0l"
      },
      "source": [
        "#### If the database needed to be accessed by 100+ people.\n",
        "\n",
        "* save the spark dataframes to a distributed database such as AWS RDS\n",
        "* assign permissions and roles based on policies set for the IAM users (ideally S3 read access)"
      ]
    }
  ],
  "metadata": {
    "colab": {
      "collapsed_sections": [],
      "name": "Udacity_Capstone Project.ipynb",
      "provenance": []
    },
    "kernelspec": {
      "display_name": "Python 3",
      "name": "python3"
    },
    "language_info": {
      "name": "python"
    }
  },
  "nbformat": 4,
  "nbformat_minor": 0
}
